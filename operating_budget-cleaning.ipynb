{
 "cells": [
  {
   "cell_type": "code",
   "execution_count": 1,
   "metadata": {
    "collapsed": true
   },
   "outputs": [],
   "source": [
    "import pandas as pd"
   ]
  },
  {
   "cell_type": "code",
   "execution_count": 2,
   "metadata": {
    "collapsed": false
   },
   "outputs": [],
   "source": [
    "def first_clean(df):\n",
    "    \"\"\"takes the original dataframe and does some initial cleaning of \n",
    "    DivisionName\n",
    "    then maps the current code_dict to the division codes and prints the rows where no match is made\"\"\"\n",
    "    \n",
    "    df.DivisionName = df.DivisionName.str.strip()\n",
    "    \n",
    "    #need to make sure that the amount column at the end is an int/float and not a string\n",
    "    try:\n",
    "        df.Amount = df.Amount.str.replace(',', '')\n",
    "    except AttributeError as detail:\n",
    "        print('exception occurred, amount is probably not strings:', detail)\n",
    "        pass\n",
    "        \n",
    "    df['DIVISIONCODE'] = df['DivisionName'].map(code_dict)\n",
    "    \n",
    "    #these are the rows where the divisionnames don't match the values from 2015\n",
    "    print(df[df.DIVISIONCODE.isnull()])\n",
    "    \n",
    "    return df"
   ]
  },
  {
   "cell_type": "code",
   "execution_count": 3,
   "metadata": {
    "collapsed": true
   },
   "outputs": [],
   "source": [
    "def second_clean(df, code_dict):    \n",
    "    df['DIVISIONCODE'] = df['DivisionName'].map(code_dict)\n",
    "    df = df.sort_values(by='DIVISIONCODE')\n",
    "    return df"
   ]
  },
  {
   "cell_type": "markdown",
   "metadata": {},
   "source": [
    "### Cleaning process\n",
    "\n",
    "mostly taken into account by first and second clean functions]"
   ]
  },
  {
   "cell_type": "code",
   "execution_count": 4,
   "metadata": {
    "collapsed": false
   },
   "outputs": [
    {
     "data": {
      "text/plain": [
       "\"\\ndf20xx = pd.read_csv('20x-gross_operating-vX.csv', skiprows=10)#, names=['DivisionName', 'Amount'])\\ndf20xx.DivisionName = df20x.DivisionName.str.strip()\\ndf20xx.Amount = df20xx.Amount.str.replace(',', '')\\n#need to make sure that the amount column at the end is an int/float and not a string\\ndf20xx['DIVISIONCODE'] = df20xx['DivisionName'].map(code_dict)\\ndf20xx\\nthese are the rows where the divisionnames don't match the values from 2015\\ndf20xx[df20xx.DIVISIONCODE.isnull()]\\nnew_codes_20xx = {'3-1-1 Customer Service Strategy': '311SERVICE',\\n                  'Waterfront Secretariat': 'WATERFRONT',\\n                  'Facilities & Real Estate': 'FACILITIES',\\n                  }\\ncode_dict.update(new_codes_20xx)\\ndf20xx['DIVISIONCODE'] = df20xx['DivisionName'].map(code_dict)\\ndf20xx = df20xx.sort_values(by='DIVISIONCODE')\\ndf20xx.to_csv('20xx-gross_operating-v2.csv')\\n\""
      ]
     },
     "execution_count": 4,
     "metadata": {},
     "output_type": "execute_result"
    }
   ],
   "source": [
    "\"\"\"\n",
    "df20xx = pd.read_csv('20x-gross_operating-vX.csv', skiprows=10)#, names=['DivisionName', 'Amount'])\n",
    "df20xx.DivisionName = df20x.DivisionName.str.strip()\n",
    "df20xx.Amount = df20xx.Amount.str.replace(',', '')\n",
    "#need to make sure that the amount column at the end is an int/float and not a string\n",
    "df20xx['DIVISIONCODE'] = df20xx['DivisionName'].map(code_dict)\n",
    "df20xx\n",
    "these are the rows where the divisionnames don't match the values from 2015\n",
    "df20xx[df20xx.DIVISIONCODE.isnull()]\n",
    "new_codes_20xx = {'3-1-1 Customer Service Strategy': '311SERVICE',\n",
    "                  'Waterfront Secretariat': 'WATERFRONT',\n",
    "                  'Facilities & Real Estate': 'FACILITIES',\n",
    "                  }\n",
    "code_dict.update(new_codes_20xx)\n",
    "df20xx['DIVISIONCODE'] = df20xx['DivisionName'].map(code_dict)\n",
    "df20xx = df20xx.sort_values(by='DIVISIONCODE')\n",
    "df20xx.to_csv('20xx-gross_operating-v2.csv')\n",
    "\"\"\""
   ]
  },
  {
   "cell_type": "code",
   "execution_count": 5,
   "metadata": {
    "collapsed": true
   },
   "outputs": [],
   "source": [
    "df2015 = pd.read_csv('2015-gross_operating-v1.csv', skiprows=10)"
   ]
  },
  {
   "cell_type": "code",
   "execution_count": 6,
   "metadata": {
    "collapsed": false
   },
   "outputs": [],
   "source": [
    "#create a code_dict with keys as DivisionName and values as DIVISIONCODE, using the pairs from 2015 \n",
    "code_dict = {'311 Toronto': '311SERVICE',\n",
    "             'Affordable Housing Office': 'AFFHOUSING',\n",
    "             'Arena Boards of Management': 'ARENAS',\n",
    "             'Association of Community Centres': 'COMMCENTRES',\n",
    "             \"Auditor General's Office\": 'AUDITGEN',\n",
    "             'Capital & Corporate Financing': 'CORPFINANCING',\n",
    "             \"Children's Services\": 'CHILDSERV',\n",
    "             \"City Clerk's Office\": 'CLERK',\n",
    "             'City Council': 'COUNCIL',\n",
    "             \"City Manager's Office\": 'CITYMANAGER',\n",
    "             'City Planning': 'PLANNING',\n",
    "             'Court Services': 'COURTSERV',\n",
    "             'Economic Development & Culture': 'ECONDEV',\n",
    "             'Engineering & Construction Services': 'ENGINEERING',\n",
    "             'Exhibition Place': 'EXHIBPLACE',\n",
    "             'Facilities, Real Estate, Environment & Energy': 'FACILITIES',\n",
    "             'Fire Services': 'FIRE',\n",
    "             'Fleet Services': 'FLEET',\n",
    "             'Heritage Toronto': 'HERITAGE',\n",
    "             'Information & Technology': 'IT',\n",
    "             \"Integrity Commissioner's Office\": 'INTEGRITYCOMM',\n",
    "             'Legal Services': 'LEGAL',\n",
    "             'Local Appeal Body': 'LOCALAPPEAL',\n",
    "             'Long Term Care Homes & Services': 'LONGTERMHOME',\n",
    "             \"Mayor's Office\": 'MAYOR',\n",
    "             'Municipal Licensing & Standards': 'LICENCING',\n",
    "             'Non-Program Expenditures': 'CORPEXPENDITURES',\n",
    "             'Non-Program Revenues': 'CORPREVENUES',\n",
    "             'Office of the Chief Financial Officer': 'CFO',\n",
    "             'Office of the Lobbyist Registrar': 'LOBBYREG',\n",
    "             'Office of the Ombudsman': 'OMBUDSMAN',\n",
    "             'Office of the Treasurer': 'TREASURER',\n",
    "             'Parks, Forestry & Recreation': 'PARKS',\n",
    "             'Policy, Planning, Finance & Administration': 'POLICYADMIN',\n",
    "             'Shelter, Support & Housing Administration': 'SHELTERADMIN',\n",
    "             'Social Development, Finance & Administration': 'SOCIALDEV',\n",
    "             'Solid Waste Management Services': 'SOLIDWASTE',\n",
    "             'Theatres': 'THEATRES',\n",
    "             'Toronto & Region Conservation Authority': 'REGIONCONSERV',\n",
    "             'Toronto Buildings': 'BUILDINGS',\n",
    "             'Toronto Employment & Social Services': 'SOCIALSERV',\n",
    "             'Toronto Paramedic Services': 'PARAMEDIC',\n",
    "             'Toronto Parking Authority': 'PARKING',\n",
    "             'Toronto Police Service': 'POLICE',\n",
    "             'Toronto Police Services Board': 'POLICEBOARD',\n",
    "             'Toronto Public Health': 'PUBLICHEALTH',\n",
    "             'Toronto Public Library': 'LIBRARY',\n",
    "             'Toronto Transit Commission - Conventional': 'TTCCONV',\n",
    "             'Toronto Transit Commission - Wheel Trans': 'TTCWHEEL',\n",
    "             'Toronto Water': 'WATER',\n",
    "             'Toronto Zoo': 'ZOO',\n",
    "             'Transportation Services': 'TRANSPORTATION',\n",
    "             'Yonge-Dundas Square': 'YONGEDUNDAS'}"
   ]
  },
  {
   "cell_type": "code",
   "execution_count": 7,
   "metadata": {
    "collapsed": false
   },
   "outputs": [
    {
     "name": "stdout",
     "output_type": "stream",
     "text": [
      "exception occurred, amount is probably not strings: Can only use .str accessor with string values, which use np.object_ dtype in pandas\n",
      "Empty DataFrame\n",
      "Columns: [DIVISIONCODE, DivisionName, Amount, RollIntoCode, Note, AlternateSource]\n",
      "Index: []\n"
     ]
    }
   ],
   "source": [
    "df2015 = first_clean(df2015)"
   ]
  },
  {
   "cell_type": "code",
   "execution_count": 8,
   "metadata": {
    "collapsed": false
   },
   "outputs": [
    {
     "data": {
      "text/html": [
       "<div>\n",
       "<table border=\"1\" class=\"dataframe\">\n",
       "  <thead>\n",
       "    <tr style=\"text-align: right;\">\n",
       "      <th></th>\n",
       "      <th>DIVISIONCODE</th>\n",
       "      <th>DivisionName</th>\n",
       "      <th>Amount</th>\n",
       "      <th>RollIntoCode</th>\n",
       "      <th>Note</th>\n",
       "      <th>AlternateSource</th>\n",
       "    </tr>\n",
       "  </thead>\n",
       "  <tbody>\n",
       "  </tbody>\n",
       "</table>\n",
       "</div>"
      ],
      "text/plain": [
       "Empty DataFrame\n",
       "Columns: [DIVISIONCODE, DivisionName, Amount, RollIntoCode, Note, AlternateSource]\n",
       "Index: []"
      ]
     },
     "execution_count": 8,
     "metadata": {},
     "output_type": "execute_result"
    }
   ],
   "source": [
    "df2015[df2015.DIVISIONCODE.isnull()]"
   ]
  },
  {
   "cell_type": "code",
   "execution_count": 9,
   "metadata": {
    "collapsed": true
   },
   "outputs": [],
   "source": [
    "df2015 = second_clean(df2015, code_dict)"
   ]
  },
  {
   "cell_type": "code",
   "execution_count": 11,
   "metadata": {
    "collapsed": false
   },
   "outputs": [],
   "source": [
    "#df2015.to_csv('2015-gross_operating-v2.csv', index=None)\n",
    "\n",
    "#Still need to add headers to the v2 file for it to be complete"
   ]
  },
  {
   "cell_type": "code",
   "execution_count": 12,
   "metadata": {
    "collapsed": true
   },
   "outputs": [],
   "source": [
    "df2014 = pd.read_csv('2014-gross_operating-v1.csv', skiprows=10)"
   ]
  },
  {
   "cell_type": "code",
   "execution_count": 13,
   "metadata": {
    "collapsed": false
   },
   "outputs": [
    {
     "data": {
      "text/html": [
       "<div>\n",
       "<table border=\"1\" class=\"dataframe\">\n",
       "  <thead>\n",
       "    <tr style=\"text-align: right;\">\n",
       "      <th></th>\n",
       "      <th>DIVISIONCODE</th>\n",
       "      <th>DivisionName</th>\n",
       "      <th>Amount</th>\n",
       "      <th>RollIntoCode</th>\n",
       "      <th>Note</th>\n",
       "      <th>AlternateSource</th>\n",
       "    </tr>\n",
       "  </thead>\n",
       "  <tbody>\n",
       "    <tr>\n",
       "      <th>0</th>\n",
       "      <td>NaN</td>\n",
       "      <td>Affordable Housing Office</td>\n",
       "      <td>2743</td>\n",
       "      <td>NaN</td>\n",
       "      <td>NaN</td>\n",
       "      <td>NaN</td>\n",
       "    </tr>\n",
       "    <tr>\n",
       "      <th>1</th>\n",
       "      <td>NaN</td>\n",
       "      <td>Children's Services</td>\n",
       "      <td>420647</td>\n",
       "      <td>NaN</td>\n",
       "      <td>NaN</td>\n",
       "      <td>NaN</td>\n",
       "    </tr>\n",
       "    <tr>\n",
       "      <th>2</th>\n",
       "      <td>NaN</td>\n",
       "      <td>Court Services</td>\n",
       "      <td>53814</td>\n",
       "      <td>NaN</td>\n",
       "      <td>NaN</td>\n",
       "      <td>NaN</td>\n",
       "    </tr>\n",
       "    <tr>\n",
       "      <th>3</th>\n",
       "      <td>NaN</td>\n",
       "      <td>Economic Development &amp; Culture</td>\n",
       "      <td>71094</td>\n",
       "      <td>NaN</td>\n",
       "      <td>NaN</td>\n",
       "      <td>NaN</td>\n",
       "    </tr>\n",
       "    <tr>\n",
       "      <th>4</th>\n",
       "      <td>NaN</td>\n",
       "      <td>Emergency Medical Services</td>\n",
       "      <td>187889</td>\n",
       "      <td>NaN</td>\n",
       "      <td>NaN</td>\n",
       "      <td>NaN</td>\n",
       "    </tr>\n",
       "  </tbody>\n",
       "</table>\n",
       "</div>"
      ],
      "text/plain": [
       "   DIVISIONCODE                    DivisionName  Amount  RollIntoCode  Note  \\\n",
       "0           NaN       Affordable Housing Office    2743           NaN   NaN   \n",
       "1           NaN             Children's Services  420647           NaN   NaN   \n",
       "2           NaN                  Court Services   53814           NaN   NaN   \n",
       "3           NaN  Economic Development & Culture   71094           NaN   NaN   \n",
       "4           NaN      Emergency Medical Services  187889           NaN   NaN   \n",
       "\n",
       "   AlternateSource  \n",
       "0              NaN  \n",
       "1              NaN  \n",
       "2              NaN  \n",
       "3              NaN  \n",
       "4              NaN  "
      ]
     },
     "execution_count": 13,
     "metadata": {},
     "output_type": "execute_result"
    }
   ],
   "source": [
    "df2014.head()"
   ]
  },
  {
   "cell_type": "code",
   "execution_count": 14,
   "metadata": {
    "collapsed": false
   },
   "outputs": [
    {
     "name": "stdout",
     "output_type": "stream",
     "text": [
      "exception occurred, amount is probably not strings: Can only use .str accessor with string values, which use np.object_ dtype in pandas\n",
      "   DIVISIONCODE                             DivisionName   Amount  \\\n",
      "4           NaN               Emergency Medical Services   187889   \n",
      "7           NaN         Shelter, Support & Housing Admin   644648   \n",
      "8           NaN      Social Development, Finance & Admin    40540   \n",
      "14          NaN        Policy, Planning, Finance & Admin    22226   \n",
      "17          NaN               Toronto Environment Office        0   \n",
      "21          NaN      Facilities Management & Real Estate   186447   \n",
      "28          NaN                           City's Council    22287   \n",
      "42          NaN    Toronto Region Conservation Authority    38906   \n",
      "43          NaN  Toronto Transit Commission-Conventional  1597559   \n",
      "\n",
      "    RollIntoCode  Note  AlternateSource  \n",
      "4            NaN   NaN              NaN  \n",
      "7            NaN   NaN              NaN  \n",
      "8            NaN   NaN              NaN  \n",
      "14           NaN   NaN              NaN  \n",
      "17           NaN   NaN              NaN  \n",
      "21           NaN   NaN              NaN  \n",
      "28           NaN   NaN              NaN  \n",
      "42           NaN   NaN              NaN  \n",
      "43           NaN   NaN              NaN  \n"
     ]
    }
   ],
   "source": [
    "df2014 = first_clean(df2014)\n",
    "#prints out the list of rows where DIVISIONCODE was not filled in"
   ]
  },
  {
   "cell_type": "code",
   "execution_count": 15,
   "metadata": {
    "collapsed": false
   },
   "outputs": [
    {
     "data": {
      "text/html": [
       "<div>\n",
       "<table border=\"1\" class=\"dataframe\">\n",
       "  <thead>\n",
       "    <tr style=\"text-align: right;\">\n",
       "      <th></th>\n",
       "      <th>DIVISIONCODE</th>\n",
       "      <th>DivisionName</th>\n",
       "      <th>Amount</th>\n",
       "      <th>RollIntoCode</th>\n",
       "      <th>Note</th>\n",
       "      <th>AlternateSource</th>\n",
       "    </tr>\n",
       "  </thead>\n",
       "  <tbody>\n",
       "    <tr>\n",
       "      <th>4</th>\n",
       "      <td>NaN</td>\n",
       "      <td>Emergency Medical Services</td>\n",
       "      <td>187889</td>\n",
       "      <td>NaN</td>\n",
       "      <td>NaN</td>\n",
       "      <td>NaN</td>\n",
       "    </tr>\n",
       "    <tr>\n",
       "      <th>7</th>\n",
       "      <td>NaN</td>\n",
       "      <td>Shelter, Support &amp; Housing Admin</td>\n",
       "      <td>644648</td>\n",
       "      <td>NaN</td>\n",
       "      <td>NaN</td>\n",
       "      <td>NaN</td>\n",
       "    </tr>\n",
       "    <tr>\n",
       "      <th>8</th>\n",
       "      <td>NaN</td>\n",
       "      <td>Social Development, Finance &amp; Admin</td>\n",
       "      <td>40540</td>\n",
       "      <td>NaN</td>\n",
       "      <td>NaN</td>\n",
       "      <td>NaN</td>\n",
       "    </tr>\n",
       "    <tr>\n",
       "      <th>14</th>\n",
       "      <td>NaN</td>\n",
       "      <td>Policy, Planning, Finance &amp; Admin</td>\n",
       "      <td>22226</td>\n",
       "      <td>NaN</td>\n",
       "      <td>NaN</td>\n",
       "      <td>NaN</td>\n",
       "    </tr>\n",
       "    <tr>\n",
       "      <th>17</th>\n",
       "      <td>NaN</td>\n",
       "      <td>Toronto Environment Office</td>\n",
       "      <td>0</td>\n",
       "      <td>NaN</td>\n",
       "      <td>NaN</td>\n",
       "      <td>NaN</td>\n",
       "    </tr>\n",
       "    <tr>\n",
       "      <th>21</th>\n",
       "      <td>NaN</td>\n",
       "      <td>Facilities Management &amp; Real Estate</td>\n",
       "      <td>186447</td>\n",
       "      <td>NaN</td>\n",
       "      <td>NaN</td>\n",
       "      <td>NaN</td>\n",
       "    </tr>\n",
       "    <tr>\n",
       "      <th>28</th>\n",
       "      <td>NaN</td>\n",
       "      <td>City's Council</td>\n",
       "      <td>22287</td>\n",
       "      <td>NaN</td>\n",
       "      <td>NaN</td>\n",
       "      <td>NaN</td>\n",
       "    </tr>\n",
       "    <tr>\n",
       "      <th>42</th>\n",
       "      <td>NaN</td>\n",
       "      <td>Toronto Region Conservation Authority</td>\n",
       "      <td>38906</td>\n",
       "      <td>NaN</td>\n",
       "      <td>NaN</td>\n",
       "      <td>NaN</td>\n",
       "    </tr>\n",
       "    <tr>\n",
       "      <th>43</th>\n",
       "      <td>NaN</td>\n",
       "      <td>Toronto Transit Commission-Conventional</td>\n",
       "      <td>1597559</td>\n",
       "      <td>NaN</td>\n",
       "      <td>NaN</td>\n",
       "      <td>NaN</td>\n",
       "    </tr>\n",
       "  </tbody>\n",
       "</table>\n",
       "</div>"
      ],
      "text/plain": [
       "   DIVISIONCODE                             DivisionName   Amount  \\\n",
       "4           NaN               Emergency Medical Services   187889   \n",
       "7           NaN         Shelter, Support & Housing Admin   644648   \n",
       "8           NaN      Social Development, Finance & Admin    40540   \n",
       "14          NaN        Policy, Planning, Finance & Admin    22226   \n",
       "17          NaN               Toronto Environment Office        0   \n",
       "21          NaN      Facilities Management & Real Estate   186447   \n",
       "28          NaN                           City's Council    22287   \n",
       "42          NaN    Toronto Region Conservation Authority    38906   \n",
       "43          NaN  Toronto Transit Commission-Conventional  1597559   \n",
       "\n",
       "    RollIntoCode  Note  AlternateSource  \n",
       "4            NaN   NaN              NaN  \n",
       "7            NaN   NaN              NaN  \n",
       "8            NaN   NaN              NaN  \n",
       "14           NaN   NaN              NaN  \n",
       "17           NaN   NaN              NaN  \n",
       "21           NaN   NaN              NaN  \n",
       "28           NaN   NaN              NaN  \n",
       "42           NaN   NaN              NaN  \n",
       "43           NaN   NaN              NaN  "
      ]
     },
     "execution_count": 15,
     "metadata": {},
     "output_type": "execute_result"
    }
   ],
   "source": [
    "#returns df with rows where DIVISIONCODE was not filled in\n",
    "df2014[df2014.DIVISIONCODE.isnull()]"
   ]
  },
  {
   "cell_type": "code",
   "execution_count": 16,
   "metadata": {
    "collapsed": false
   },
   "outputs": [
    {
     "data": {
      "text/plain": [
       "{'311 Toronto': '311SERVICE',\n",
       " 'Affordable Housing Office': 'AFFHOUSING',\n",
       " 'Arena Boards of Management': 'ARENAS',\n",
       " 'Association of Community Centres': 'COMMCENTRES',\n",
       " \"Auditor General's Office\": 'AUDITGEN',\n",
       " 'Capital & Corporate Financing': 'CORPFINANCING',\n",
       " \"Children's Services\": 'CHILDSERV',\n",
       " \"City Clerk's Office\": 'CLERK',\n",
       " 'City Council': 'COUNCIL',\n",
       " \"City Manager's Office\": 'CITYMANAGER',\n",
       " 'City Planning': 'PLANNING',\n",
       " 'Court Services': 'COURTSERV',\n",
       " 'Economic Development & Culture': 'ECONDEV',\n",
       " 'Engineering & Construction Services': 'ENGINEERING',\n",
       " 'Exhibition Place': 'EXHIBPLACE',\n",
       " 'Facilities, Real Estate, Environment & Energy': 'FACILITIES',\n",
       " 'Fire Services': 'FIRE',\n",
       " 'Fleet Services': 'FLEET',\n",
       " 'Heritage Toronto': 'HERITAGE',\n",
       " 'Information & Technology': 'IT',\n",
       " \"Integrity Commissioner's Office\": 'INTEGRITYCOMM',\n",
       " 'Legal Services': 'LEGAL',\n",
       " 'Local Appeal Body': 'LOCALAPPEAL',\n",
       " 'Long Term Care Homes & Services': 'LONGTERMHOME',\n",
       " \"Mayor's Office\": 'MAYOR',\n",
       " 'Municipal Licensing & Standards': 'LICENCING',\n",
       " 'Non-Program Expenditures': 'CORPEXPENDITURES',\n",
       " 'Non-Program Revenues': 'CORPREVENUES',\n",
       " 'Office of the Chief Financial Officer': 'CFO',\n",
       " 'Office of the Lobbyist Registrar': 'LOBBYREG',\n",
       " 'Office of the Ombudsman': 'OMBUDSMAN',\n",
       " 'Office of the Treasurer': 'TREASURER',\n",
       " 'Parks, Forestry & Recreation': 'PARKS',\n",
       " 'Policy, Planning, Finance & Administration': 'POLICYADMIN',\n",
       " 'Shelter, Support & Housing Administration': 'SHELTERADMIN',\n",
       " 'Social Development, Finance & Administration': 'SOCIALDEV',\n",
       " 'Solid Waste Management Services': 'SOLIDWASTE',\n",
       " 'Theatres': 'THEATRES',\n",
       " 'Toronto & Region Conservation Authority': 'REGIONCONSERV',\n",
       " 'Toronto Buildings': 'BUILDINGS',\n",
       " 'Toronto Employment & Social Services': 'SOCIALSERV',\n",
       " 'Toronto Paramedic Services': 'PARAMEDIC',\n",
       " 'Toronto Parking Authority': 'PARKING',\n",
       " 'Toronto Police Service': 'POLICE',\n",
       " 'Toronto Police Services Board': 'POLICEBOARD',\n",
       " 'Toronto Public Health': 'PUBLICHEALTH',\n",
       " 'Toronto Public Library': 'LIBRARY',\n",
       " 'Toronto Transit Commission - Conventional': 'TTCCONV',\n",
       " 'Toronto Transit Commission - Wheel Trans': 'TTCWHEEL',\n",
       " 'Toronto Water': 'WATER',\n",
       " 'Toronto Zoo': 'ZOO',\n",
       " 'Transportation Services': 'TRANSPORTATION',\n",
       " 'Yonge-Dundas Square': 'YONGEDUNDAS'}"
      ]
     },
     "execution_count": 16,
     "metadata": {},
     "output_type": "execute_result"
    }
   ],
   "source": [
    "code_dict"
   ]
  },
  {
   "cell_type": "code",
   "execution_count": 17,
   "metadata": {
    "collapsed": true
   },
   "outputs": [],
   "source": [
    "#To do the cleaning in order, it might be best to sequentially get csv in descending order of year, and slowly add \n",
    "#each new code into the code_dict (at this point i need to add the new codes for 2014 into the code_dict)"
   ]
  },
  {
   "cell_type": "code",
   "execution_count": 18,
   "metadata": {
    "collapsed": true
   },
   "outputs": [],
   "source": [
    "new_codes_2014 = {'Emergency Medical Services': 'EMERG',\n",
    "                  'Toronto Environment Office': 'ENV'\n",
    "                 }\n",
    "\n",
    "miscodes_2014 = {\"City's Council\": 'COUNCIL',\n",
    "                 'Facilities Management & Real Estate': 'FACILITIES',\n",
    "                 'Policy, Planning, Finance & Admin': 'POLICYADMIN',\n",
    "                 'Shelter, Support & Housing Admin': 'SHELTERADMIN',\n",
    "                 'Social Development, Finance & Admin': 'SOCIALDEV',\n",
    "                 'Toronto Region Conservation Authority': 'REGIONCONSERV',\n",
    "                 'Toronto Transit Commission-Conventional': 'TTCCONV'\n",
    "                }\n",
    "\n",
    "code_dict.update(new_codes_2014)\n",
    "code_dict.update(miscodes_2014)"
   ]
  },
  {
   "cell_type": "code",
   "execution_count": 19,
   "metadata": {
    "collapsed": true
   },
   "outputs": [],
   "source": [
    "#this dictionary has keys that equate to the DIVISIONCODE from the new_codes of the year and values for the \n",
    "#NextYearCategory\n",
    "next_year_category_2014 = {'EMERG': 'PARAMEDIC',\n",
    "                           'ENV': 'FACILITIES'}"
   ]
  },
  {
   "cell_type": "code",
   "execution_count": 20,
   "metadata": {
    "collapsed": true
   },
   "outputs": [],
   "source": [
    "df2014['RollIntoCode'] = df2014['DIVISIONCODE'].map(next_year_category_2014)"
   ]
  },
  {
   "cell_type": "code",
   "execution_count": 21,
   "metadata": {
    "collapsed": false
   },
   "outputs": [],
   "source": [
    "df2014 = second_clean(df2014, code_dict)"
   ]
  },
  {
   "cell_type": "code",
   "execution_count": 23,
   "metadata": {
    "collapsed": false
   },
   "outputs": [],
   "source": [
    "#df2014.to_csv('2014-gross_operating-v2.csv', index=None)"
   ]
  },
  {
   "cell_type": "code",
   "execution_count": 24,
   "metadata": {
    "collapsed": false,
    "scrolled": false
   },
   "outputs": [],
   "source": [
    "df2013 = pd.read_csv('2013-gross_operating-v1.csv', skiprows=10)"
   ]
  },
  {
   "cell_type": "code",
   "execution_count": 25,
   "metadata": {
    "collapsed": false
   },
   "outputs": [
    {
     "name": "stdout",
     "output_type": "stream",
     "text": [
      "exception occurred, amount is probably not strings: Can only use .str accessor with string values, which use np.object_ dtype in pandas\n",
      "   DIVISIONCODE                              DivisionName    Amount  \\\n",
      "15          NaN                        Technical Services   70748.0   \n",
      "16          NaN                          Toronto Building   47090.6   \n",
      "31          NaN                        Lobbyist Registrar    1065.4   \n",
      "44          NaN  Toronto Transit Commission - Wheel-Trans  102369.3   \n",
      "\n",
      "    RollIntoCode  Note AlternateSource  \n",
      "15           NaN   NaN             NaN  \n",
      "16           NaN   NaN             NaN  \n",
      "31           NaN   NaN             NaN  \n",
      "44           NaN   NaN             NaN  \n"
     ]
    }
   ],
   "source": [
    "df2013 = first_clean(df2013)"
   ]
  },
  {
   "cell_type": "code",
   "execution_count": 26,
   "metadata": {
    "collapsed": false
   },
   "outputs": [
    {
     "data": {
      "text/html": [
       "<div>\n",
       "<table border=\"1\" class=\"dataframe\">\n",
       "  <thead>\n",
       "    <tr style=\"text-align: right;\">\n",
       "      <th></th>\n",
       "      <th>DIVISIONCODE</th>\n",
       "      <th>DivisionName</th>\n",
       "      <th>Amount</th>\n",
       "      <th>RollIntoCode</th>\n",
       "      <th>Note</th>\n",
       "      <th>AlternateSource</th>\n",
       "    </tr>\n",
       "  </thead>\n",
       "  <tbody>\n",
       "    <tr>\n",
       "      <th>15</th>\n",
       "      <td>NaN</td>\n",
       "      <td>Technical Services</td>\n",
       "      <td>70748.0</td>\n",
       "      <td>NaN</td>\n",
       "      <td>NaN</td>\n",
       "      <td>NaN</td>\n",
       "    </tr>\n",
       "    <tr>\n",
       "      <th>16</th>\n",
       "      <td>NaN</td>\n",
       "      <td>Toronto Building</td>\n",
       "      <td>47090.6</td>\n",
       "      <td>NaN</td>\n",
       "      <td>NaN</td>\n",
       "      <td>NaN</td>\n",
       "    </tr>\n",
       "    <tr>\n",
       "      <th>31</th>\n",
       "      <td>NaN</td>\n",
       "      <td>Lobbyist Registrar</td>\n",
       "      <td>1065.4</td>\n",
       "      <td>NaN</td>\n",
       "      <td>NaN</td>\n",
       "      <td>NaN</td>\n",
       "    </tr>\n",
       "    <tr>\n",
       "      <th>44</th>\n",
       "      <td>NaN</td>\n",
       "      <td>Toronto Transit Commission - Wheel-Trans</td>\n",
       "      <td>102369.3</td>\n",
       "      <td>NaN</td>\n",
       "      <td>NaN</td>\n",
       "      <td>NaN</td>\n",
       "    </tr>\n",
       "  </tbody>\n",
       "</table>\n",
       "</div>"
      ],
      "text/plain": [
       "   DIVISIONCODE                              DivisionName    Amount  \\\n",
       "15          NaN                        Technical Services   70748.0   \n",
       "16          NaN                          Toronto Building   47090.6   \n",
       "31          NaN                        Lobbyist Registrar    1065.4   \n",
       "44          NaN  Toronto Transit Commission - Wheel-Trans  102369.3   \n",
       "\n",
       "    RollIntoCode  Note AlternateSource  \n",
       "15           NaN   NaN             NaN  \n",
       "16           NaN   NaN             NaN  \n",
       "31           NaN   NaN             NaN  \n",
       "44           NaN   NaN             NaN  "
      ]
     },
     "execution_count": 26,
     "metadata": {},
     "output_type": "execute_result"
    }
   ],
   "source": [
    "df2013[df2013.DIVISIONCODE.isnull()]"
   ]
  },
  {
   "cell_type": "code",
   "execution_count": 27,
   "metadata": {
    "collapsed": false
   },
   "outputs": [],
   "source": [
    "new_codes_2013 = {'Technical Services': 'TECH'\n",
    "                  }\n",
    "\n",
    "miscodes_2013 = {'Toronto Building': 'BUILDING',\n",
    "                 'Lobbyist Registrar': 'LOBBYREG',\n",
    "                 'Toronto Transit Commission - Wheel-Trans': 'TTCWHEEL'\n",
    "                }\n",
    "\n",
    "code_dict.update(new_codes_2013)\n",
    "code_dict.update(miscodes_2013)"
   ]
  },
  {
   "cell_type": "code",
   "execution_count": 28,
   "metadata": {
    "collapsed": true
   },
   "outputs": [],
   "source": [
    "df2013 = second_clean(df2013, code_dict)"
   ]
  },
  {
   "cell_type": "code",
   "execution_count": 29,
   "metadata": {
    "collapsed": true
   },
   "outputs": [],
   "source": [
    "next_year_category_2013 = {'TECH':  'ENGINEERING'}\n",
    "\n",
    "df2013['RollIntoCode'] = df2013['DIVISIONCODE'].map(next_year_category_2013)"
   ]
  },
  {
   "cell_type": "code",
   "execution_count": 30,
   "metadata": {
    "collapsed": false
   },
   "outputs": [
    {
     "data": {
      "text/html": [
       "<div>\n",
       "<table border=\"1\" class=\"dataframe\">\n",
       "  <thead>\n",
       "    <tr style=\"text-align: right;\">\n",
       "      <th></th>\n",
       "      <th>DIVISIONCODE</th>\n",
       "      <th>DivisionName</th>\n",
       "      <th>Amount</th>\n",
       "      <th>RollIntoCode</th>\n",
       "      <th>Note</th>\n",
       "      <th>AlternateSource</th>\n",
       "    </tr>\n",
       "  </thead>\n",
       "  <tbody>\n",
       "    <tr>\n",
       "      <th>10</th>\n",
       "      <td>311SERVICE</td>\n",
       "      <td>311 Toronto</td>\n",
       "      <td>19025.8</td>\n",
       "      <td>NaN</td>\n",
       "      <td>NaN</td>\n",
       "      <td>NaN</td>\n",
       "    </tr>\n",
       "    <tr>\n",
       "      <th>0</th>\n",
       "      <td>AFFHOUSING</td>\n",
       "      <td>Affordable Housing Office</td>\n",
       "      <td>2639.6</td>\n",
       "      <td>NaN</td>\n",
       "      <td>NaN</td>\n",
       "      <td>NaN</td>\n",
       "    </tr>\n",
       "    <tr>\n",
       "      <th>40</th>\n",
       "      <td>ARENAS</td>\n",
       "      <td>Arena Boards of Management</td>\n",
       "      <td>7193.6</td>\n",
       "      <td>NaN</td>\n",
       "      <td>NaN</td>\n",
       "      <td>NaN</td>\n",
       "    </tr>\n",
       "    <tr>\n",
       "      <th>29</th>\n",
       "      <td>AUDITGEN</td>\n",
       "      <td>Auditor General's Office</td>\n",
       "      <td>4038.1</td>\n",
       "      <td>NaN</td>\n",
       "      <td>NaN</td>\n",
       "      <td>NaN</td>\n",
       "    </tr>\n",
       "    <tr>\n",
       "      <th>16</th>\n",
       "      <td>BUILDING</td>\n",
       "      <td>Toronto Building</td>\n",
       "      <td>47090.6</td>\n",
       "      <td>NaN</td>\n",
       "      <td>NaN</td>\n",
       "      <td>NaN</td>\n",
       "    </tr>\n",
       "    <tr>\n",
       "      <th>19</th>\n",
       "      <td>CFO</td>\n",
       "      <td>Office of the Chief Financial Officer</td>\n",
       "      <td>15526.4</td>\n",
       "      <td>NaN</td>\n",
       "      <td>NaN</td>\n",
       "      <td>NaN</td>\n",
       "    </tr>\n",
       "    <tr>\n",
       "      <th>1</th>\n",
       "      <td>CHILDSERV</td>\n",
       "      <td>Children's Services</td>\n",
       "      <td>401174.0</td>\n",
       "      <td>NaN</td>\n",
       "      <td>NaN</td>\n",
       "      <td>NaN</td>\n",
       "    </tr>\n",
       "    <tr>\n",
       "      <th>24</th>\n",
       "      <td>CITYMANAGER</td>\n",
       "      <td>City Manager's Office</td>\n",
       "      <td>50386.2</td>\n",
       "      <td>NaN</td>\n",
       "      <td>NaN</td>\n",
       "      <td>NaN</td>\n",
       "    </tr>\n",
       "    <tr>\n",
       "      <th>25</th>\n",
       "      <td>CLERK</td>\n",
       "      <td>City Clerk's Office</td>\n",
       "      <td>46469.5</td>\n",
       "      <td>NaN</td>\n",
       "      <td>NaN</td>\n",
       "      <td>NaN</td>\n",
       "    </tr>\n",
       "    <tr>\n",
       "      <th>35</th>\n",
       "      <td>COMMCENTRES</td>\n",
       "      <td>Association of Community Centres</td>\n",
       "      <td>7111.2</td>\n",
       "      <td>NaN</td>\n",
       "      <td>NaN</td>\n",
       "      <td>NaN</td>\n",
       "    </tr>\n",
       "    <tr>\n",
       "      <th>48</th>\n",
       "      <td>CORPEXPENDITURES</td>\n",
       "      <td>Non-Program Expenditures</td>\n",
       "      <td>703639.8</td>\n",
       "      <td>NaN</td>\n",
       "      <td>NaN</td>\n",
       "      <td>NaN</td>\n",
       "    </tr>\n",
       "    <tr>\n",
       "      <th>47</th>\n",
       "      <td>CORPFINANCING</td>\n",
       "      <td>Capital &amp; Corporate Financing</td>\n",
       "      <td>655019.5</td>\n",
       "      <td>NaN</td>\n",
       "      <td>NaN</td>\n",
       "      <td>NaN</td>\n",
       "    </tr>\n",
       "    <tr>\n",
       "      <th>49</th>\n",
       "      <td>CORPREVENUES</td>\n",
       "      <td>Non-Program Revenues</td>\n",
       "      <td>9224.4</td>\n",
       "      <td>NaN</td>\n",
       "      <td>NaN</td>\n",
       "      <td>NaN</td>\n",
       "    </tr>\n",
       "    <tr>\n",
       "      <th>28</th>\n",
       "      <td>COUNCIL</td>\n",
       "      <td>City Council</td>\n",
       "      <td>19761.7</td>\n",
       "      <td>NaN</td>\n",
       "      <td>NaN</td>\n",
       "      <td>NaN</td>\n",
       "    </tr>\n",
       "    <tr>\n",
       "      <th>2</th>\n",
       "      <td>COURTSERV</td>\n",
       "      <td>Court Services</td>\n",
       "      <td>54790.9</td>\n",
       "      <td>NaN</td>\n",
       "      <td>NaN</td>\n",
       "      <td>NaN</td>\n",
       "    </tr>\n",
       "    <tr>\n",
       "      <th>3</th>\n",
       "      <td>ECONDEV</td>\n",
       "      <td>Economic Development &amp; Culture</td>\n",
       "      <td>56705.9</td>\n",
       "      <td>NaN</td>\n",
       "      <td>NaN</td>\n",
       "      <td>NaN</td>\n",
       "    </tr>\n",
       "    <tr>\n",
       "      <th>4</th>\n",
       "      <td>EMERG</td>\n",
       "      <td>Emergency Medical Services</td>\n",
       "      <td>179525.2</td>\n",
       "      <td>NaN</td>\n",
       "      <td>NaN</td>\n",
       "      <td>NaN</td>\n",
       "    </tr>\n",
       "    <tr>\n",
       "      <th>17</th>\n",
       "      <td>ENV</td>\n",
       "      <td>Toronto Environment Office</td>\n",
       "      <td>4539.2</td>\n",
       "      <td>NaN</td>\n",
       "      <td>NaN</td>\n",
       "      <td>NaN</td>\n",
       "    </tr>\n",
       "    <tr>\n",
       "      <th>36</th>\n",
       "      <td>EXHIBPLACE</td>\n",
       "      <td>Exhibition Place</td>\n",
       "      <td>43650.7</td>\n",
       "      <td>NaN</td>\n",
       "      <td>NaN</td>\n",
       "      <td>NaN</td>\n",
       "    </tr>\n",
       "    <tr>\n",
       "      <th>21</th>\n",
       "      <td>FACILITIES</td>\n",
       "      <td>Facilities Management &amp; Real Estate</td>\n",
       "      <td>178535.6</td>\n",
       "      <td>NaN</td>\n",
       "      <td>NaN</td>\n",
       "      <td>NaN</td>\n",
       "    </tr>\n",
       "    <tr>\n",
       "      <th>12</th>\n",
       "      <td>FIRE</td>\n",
       "      <td>Fire Services</td>\n",
       "      <td>375364.1</td>\n",
       "      <td>NaN</td>\n",
       "      <td>NaN</td>\n",
       "      <td>NaN</td>\n",
       "    </tr>\n",
       "    <tr>\n",
       "      <th>22</th>\n",
       "      <td>FLEET</td>\n",
       "      <td>Fleet Services</td>\n",
       "      <td>46340.4</td>\n",
       "      <td>NaN</td>\n",
       "      <td>NaN</td>\n",
       "      <td>NaN</td>\n",
       "    </tr>\n",
       "    <tr>\n",
       "      <th>37</th>\n",
       "      <td>HERITAGE</td>\n",
       "      <td>Heritage Toronto</td>\n",
       "      <td>740.1</td>\n",
       "      <td>NaN</td>\n",
       "      <td>NaN</td>\n",
       "      <td>NaN</td>\n",
       "    </tr>\n",
       "    <tr>\n",
       "      <th>30</th>\n",
       "      <td>INTEGRITYCOMM</td>\n",
       "      <td>Integrity Commissioner's Office</td>\n",
       "      <td>249.7</td>\n",
       "      <td>NaN</td>\n",
       "      <td>NaN</td>\n",
       "      <td>NaN</td>\n",
       "    </tr>\n",
       "    <tr>\n",
       "      <th>23</th>\n",
       "      <td>IT</td>\n",
       "      <td>Information &amp; Technology</td>\n",
       "      <td>105191.3</td>\n",
       "      <td>NaN</td>\n",
       "      <td>NaN</td>\n",
       "      <td>NaN</td>\n",
       "    </tr>\n",
       "    <tr>\n",
       "      <th>26</th>\n",
       "      <td>LEGAL</td>\n",
       "      <td>Legal Services</td>\n",
       "      <td>44811.0</td>\n",
       "      <td>NaN</td>\n",
       "      <td>NaN</td>\n",
       "      <td>NaN</td>\n",
       "    </tr>\n",
       "    <tr>\n",
       "      <th>34</th>\n",
       "      <td>LIBRARY</td>\n",
       "      <td>Toronto Public Library</td>\n",
       "      <td>180793.9</td>\n",
       "      <td>NaN</td>\n",
       "      <td>NaN</td>\n",
       "      <td>NaN</td>\n",
       "    </tr>\n",
       "    <tr>\n",
       "      <th>13</th>\n",
       "      <td>LICENCING</td>\n",
       "      <td>Municipal Licensing &amp; Standards</td>\n",
       "      <td>48413.6</td>\n",
       "      <td>NaN</td>\n",
       "      <td>NaN</td>\n",
       "      <td>NaN</td>\n",
       "    </tr>\n",
       "    <tr>\n",
       "      <th>31</th>\n",
       "      <td>LOBBYREG</td>\n",
       "      <td>Lobbyist Registrar</td>\n",
       "      <td>1065.4</td>\n",
       "      <td>NaN</td>\n",
       "      <td>NaN</td>\n",
       "      <td>NaN</td>\n",
       "    </tr>\n",
       "    <tr>\n",
       "      <th>5</th>\n",
       "      <td>LONGTERMHOME</td>\n",
       "      <td>Long Term Care Homes &amp; Services</td>\n",
       "      <td>226566.5</td>\n",
       "      <td>NaN</td>\n",
       "      <td>NaN</td>\n",
       "      <td>NaN</td>\n",
       "    </tr>\n",
       "    <tr>\n",
       "      <th>27</th>\n",
       "      <td>MAYOR</td>\n",
       "      <td>Mayor's Office</td>\n",
       "      <td>1940.3</td>\n",
       "      <td>NaN</td>\n",
       "      <td>NaN</td>\n",
       "      <td>NaN</td>\n",
       "    </tr>\n",
       "    <tr>\n",
       "      <th>32</th>\n",
       "      <td>OMBUDSMAN</td>\n",
       "      <td>Office of the Ombudsman</td>\n",
       "      <td>1570.1</td>\n",
       "      <td>NaN</td>\n",
       "      <td>NaN</td>\n",
       "      <td>NaN</td>\n",
       "    </tr>\n",
       "    <tr>\n",
       "      <th>51</th>\n",
       "      <td>PARKING</td>\n",
       "      <td>Toronto Parking Authority</td>\n",
       "      <td>72216.7</td>\n",
       "      <td>NaN</td>\n",
       "      <td>NaN</td>\n",
       "      <td>http://www1.toronto.ca/City%20Of%20Toronto/Str...</td>\n",
       "    </tr>\n",
       "    <tr>\n",
       "      <th>6</th>\n",
       "      <td>PARKS</td>\n",
       "      <td>Parks, Forestry &amp; Recreation</td>\n",
       "      <td>392026.7</td>\n",
       "      <td>NaN</td>\n",
       "      <td>NaN</td>\n",
       "      <td>NaN</td>\n",
       "    </tr>\n",
       "    <tr>\n",
       "      <th>11</th>\n",
       "      <td>PLANNING</td>\n",
       "      <td>City Planning</td>\n",
       "      <td>39019.9</td>\n",
       "      <td>NaN</td>\n",
       "      <td>NaN</td>\n",
       "      <td>NaN</td>\n",
       "    </tr>\n",
       "    <tr>\n",
       "      <th>45</th>\n",
       "      <td>POLICE</td>\n",
       "      <td>Toronto Police Service</td>\n",
       "      <td>1018876.1</td>\n",
       "      <td>NaN</td>\n",
       "      <td>NaN</td>\n",
       "      <td>NaN</td>\n",
       "    </tr>\n",
       "    <tr>\n",
       "      <th>46</th>\n",
       "      <td>POLICEBOARD</td>\n",
       "      <td>Toronto Police Services Board</td>\n",
       "      <td>2751.6</td>\n",
       "      <td>NaN</td>\n",
       "      <td>NaN</td>\n",
       "      <td>NaN</td>\n",
       "    </tr>\n",
       "    <tr>\n",
       "      <th>14</th>\n",
       "      <td>POLICYADMIN</td>\n",
       "      <td>Policy, Planning, Finance &amp; Administration</td>\n",
       "      <td>20859.5</td>\n",
       "      <td>NaN</td>\n",
       "      <td>NaN</td>\n",
       "      <td>NaN</td>\n",
       "    </tr>\n",
       "    <tr>\n",
       "      <th>33</th>\n",
       "      <td>PUBLICHEALTH</td>\n",
       "      <td>Toronto Public Health</td>\n",
       "      <td>240462.8</td>\n",
       "      <td>NaN</td>\n",
       "      <td>NaN</td>\n",
       "      <td>NaN</td>\n",
       "    </tr>\n",
       "    <tr>\n",
       "      <th>42</th>\n",
       "      <td>REGIONCONSERV</td>\n",
       "      <td>Toronto &amp; Region Conservation Authority</td>\n",
       "      <td>38402.0</td>\n",
       "      <td>NaN</td>\n",
       "      <td>NaN</td>\n",
       "      <td>NaN</td>\n",
       "    </tr>\n",
       "    <tr>\n",
       "      <th>7</th>\n",
       "      <td>SHELTERADMIN</td>\n",
       "      <td>Shelter, Support &amp; Housing Administration</td>\n",
       "      <td>668682.3</td>\n",
       "      <td>NaN</td>\n",
       "      <td>NaN</td>\n",
       "      <td>NaN</td>\n",
       "    </tr>\n",
       "    <tr>\n",
       "      <th>8</th>\n",
       "      <td>SOCIALDEV</td>\n",
       "      <td>Social Development, Finance &amp; Administration</td>\n",
       "      <td>33589.1</td>\n",
       "      <td>NaN</td>\n",
       "      <td>NaN</td>\n",
       "      <td>NaN</td>\n",
       "    </tr>\n",
       "    <tr>\n",
       "      <th>9</th>\n",
       "      <td>SOCIALSERV</td>\n",
       "      <td>Toronto Employment &amp; Social Services</td>\n",
       "      <td>1243544.4</td>\n",
       "      <td>NaN</td>\n",
       "      <td>NaN</td>\n",
       "      <td>NaN</td>\n",
       "    </tr>\n",
       "    <tr>\n",
       "      <th>50</th>\n",
       "      <td>SOLIDWASTE</td>\n",
       "      <td>Solid Waste Management Services</td>\n",
       "      <td>348747.9</td>\n",
       "      <td>NaN</td>\n",
       "      <td>NaN</td>\n",
       "      <td>http://www1.toronto.ca/City%20Of%20Toronto/Str...</td>\n",
       "    </tr>\n",
       "    <tr>\n",
       "      <th>15</th>\n",
       "      <td>TECH</td>\n",
       "      <td>Technical Services</td>\n",
       "      <td>70748.0</td>\n",
       "      <td>ENGINEERING</td>\n",
       "      <td>NaN</td>\n",
       "      <td>NaN</td>\n",
       "    </tr>\n",
       "    <tr>\n",
       "      <th>38</th>\n",
       "      <td>THEATRES</td>\n",
       "      <td>Theatres</td>\n",
       "      <td>23589.5</td>\n",
       "      <td>NaN</td>\n",
       "      <td>NaN</td>\n",
       "      <td>NaN</td>\n",
       "    </tr>\n",
       "    <tr>\n",
       "      <th>18</th>\n",
       "      <td>TRANSPORTATION</td>\n",
       "      <td>Transportation Services</td>\n",
       "      <td>329511.0</td>\n",
       "      <td>NaN</td>\n",
       "      <td>NaN</td>\n",
       "      <td>NaN</td>\n",
       "    </tr>\n",
       "    <tr>\n",
       "      <th>20</th>\n",
       "      <td>TREASURER</td>\n",
       "      <td>Office of the Treasurer</td>\n",
       "      <td>72551.4</td>\n",
       "      <td>NaN</td>\n",
       "      <td>NaN</td>\n",
       "      <td>NaN</td>\n",
       "    </tr>\n",
       "    <tr>\n",
       "      <th>43</th>\n",
       "      <td>TTCCONV</td>\n",
       "      <td>Toronto Transit Commission - Conventional</td>\n",
       "      <td>1540948.4</td>\n",
       "      <td>NaN</td>\n",
       "      <td>NaN</td>\n",
       "      <td>NaN</td>\n",
       "    </tr>\n",
       "    <tr>\n",
       "      <th>44</th>\n",
       "      <td>TTCWHEEL</td>\n",
       "      <td>Toronto Transit Commission - Wheel-Trans</td>\n",
       "      <td>102369.3</td>\n",
       "      <td>NaN</td>\n",
       "      <td>NaN</td>\n",
       "      <td>NaN</td>\n",
       "    </tr>\n",
       "    <tr>\n",
       "      <th>52</th>\n",
       "      <td>WATER</td>\n",
       "      <td>Toronto Water</td>\n",
       "      <td>940797.1</td>\n",
       "      <td>NaN</td>\n",
       "      <td>NaN</td>\n",
       "      <td>http://www1.toronto.ca/City%20Of%20Toronto/Str...</td>\n",
       "    </tr>\n",
       "    <tr>\n",
       "      <th>41</th>\n",
       "      <td>YONGEDUNDAS</td>\n",
       "      <td>Yonge-Dundas Square</td>\n",
       "      <td>2069.2</td>\n",
       "      <td>NaN</td>\n",
       "      <td>NaN</td>\n",
       "      <td>NaN</td>\n",
       "    </tr>\n",
       "    <tr>\n",
       "      <th>39</th>\n",
       "      <td>ZOO</td>\n",
       "      <td>Toronto Zoo</td>\n",
       "      <td>53565.3</td>\n",
       "      <td>NaN</td>\n",
       "      <td>NaN</td>\n",
       "      <td>NaN</td>\n",
       "    </tr>\n",
       "  </tbody>\n",
       "</table>\n",
       "</div>"
      ],
      "text/plain": [
       "        DIVISIONCODE                                  DivisionName     Amount  \\\n",
       "10        311SERVICE                                   311 Toronto    19025.8   \n",
       "0         AFFHOUSING                     Affordable Housing Office     2639.6   \n",
       "40            ARENAS                    Arena Boards of Management     7193.6   \n",
       "29          AUDITGEN                      Auditor General's Office     4038.1   \n",
       "16          BUILDING                              Toronto Building    47090.6   \n",
       "19               CFO         Office of the Chief Financial Officer    15526.4   \n",
       "1          CHILDSERV                           Children's Services   401174.0   \n",
       "24       CITYMANAGER                         City Manager's Office    50386.2   \n",
       "25             CLERK                           City Clerk's Office    46469.5   \n",
       "35       COMMCENTRES              Association of Community Centres     7111.2   \n",
       "48  CORPEXPENDITURES                      Non-Program Expenditures   703639.8   \n",
       "47     CORPFINANCING                 Capital & Corporate Financing   655019.5   \n",
       "49      CORPREVENUES                          Non-Program Revenues     9224.4   \n",
       "28           COUNCIL                                  City Council    19761.7   \n",
       "2          COURTSERV                                Court Services    54790.9   \n",
       "3            ECONDEV                Economic Development & Culture    56705.9   \n",
       "4              EMERG                    Emergency Medical Services   179525.2   \n",
       "17               ENV                    Toronto Environment Office     4539.2   \n",
       "36        EXHIBPLACE                              Exhibition Place    43650.7   \n",
       "21        FACILITIES           Facilities Management & Real Estate   178535.6   \n",
       "12              FIRE                                 Fire Services   375364.1   \n",
       "22             FLEET                                Fleet Services    46340.4   \n",
       "37          HERITAGE                              Heritage Toronto      740.1   \n",
       "30     INTEGRITYCOMM               Integrity Commissioner's Office      249.7   \n",
       "23                IT                      Information & Technology   105191.3   \n",
       "26             LEGAL                                Legal Services    44811.0   \n",
       "34           LIBRARY                        Toronto Public Library   180793.9   \n",
       "13         LICENCING               Municipal Licensing & Standards    48413.6   \n",
       "31          LOBBYREG                            Lobbyist Registrar     1065.4   \n",
       "5       LONGTERMHOME               Long Term Care Homes & Services   226566.5   \n",
       "27             MAYOR                                Mayor's Office     1940.3   \n",
       "32         OMBUDSMAN                       Office of the Ombudsman     1570.1   \n",
       "51           PARKING                     Toronto Parking Authority    72216.7   \n",
       "6              PARKS                  Parks, Forestry & Recreation   392026.7   \n",
       "11          PLANNING                                 City Planning    39019.9   \n",
       "45            POLICE                        Toronto Police Service  1018876.1   \n",
       "46       POLICEBOARD                 Toronto Police Services Board     2751.6   \n",
       "14       POLICYADMIN    Policy, Planning, Finance & Administration    20859.5   \n",
       "33      PUBLICHEALTH                         Toronto Public Health   240462.8   \n",
       "42     REGIONCONSERV       Toronto & Region Conservation Authority    38402.0   \n",
       "7       SHELTERADMIN     Shelter, Support & Housing Administration   668682.3   \n",
       "8          SOCIALDEV  Social Development, Finance & Administration    33589.1   \n",
       "9         SOCIALSERV          Toronto Employment & Social Services  1243544.4   \n",
       "50        SOLIDWASTE               Solid Waste Management Services   348747.9   \n",
       "15              TECH                            Technical Services    70748.0   \n",
       "38          THEATRES                                      Theatres    23589.5   \n",
       "18    TRANSPORTATION                       Transportation Services   329511.0   \n",
       "20         TREASURER                       Office of the Treasurer    72551.4   \n",
       "43           TTCCONV     Toronto Transit Commission - Conventional  1540948.4   \n",
       "44          TTCWHEEL      Toronto Transit Commission - Wheel-Trans   102369.3   \n",
       "52             WATER                                 Toronto Water   940797.1   \n",
       "41       YONGEDUNDAS                           Yonge-Dundas Square     2069.2   \n",
       "39               ZOO                                   Toronto Zoo    53565.3   \n",
       "\n",
       "   RollIntoCode  Note                                    AlternateSource  \n",
       "10          NaN   NaN                                                NaN  \n",
       "0           NaN   NaN                                                NaN  \n",
       "40          NaN   NaN                                                NaN  \n",
       "29          NaN   NaN                                                NaN  \n",
       "16          NaN   NaN                                                NaN  \n",
       "19          NaN   NaN                                                NaN  \n",
       "1           NaN   NaN                                                NaN  \n",
       "24          NaN   NaN                                                NaN  \n",
       "25          NaN   NaN                                                NaN  \n",
       "35          NaN   NaN                                                NaN  \n",
       "48          NaN   NaN                                                NaN  \n",
       "47          NaN   NaN                                                NaN  \n",
       "49          NaN   NaN                                                NaN  \n",
       "28          NaN   NaN                                                NaN  \n",
       "2           NaN   NaN                                                NaN  \n",
       "3           NaN   NaN                                                NaN  \n",
       "4           NaN   NaN                                                NaN  \n",
       "17          NaN   NaN                                                NaN  \n",
       "36          NaN   NaN                                                NaN  \n",
       "21          NaN   NaN                                                NaN  \n",
       "12          NaN   NaN                                                NaN  \n",
       "22          NaN   NaN                                                NaN  \n",
       "37          NaN   NaN                                                NaN  \n",
       "30          NaN   NaN                                                NaN  \n",
       "23          NaN   NaN                                                NaN  \n",
       "26          NaN   NaN                                                NaN  \n",
       "34          NaN   NaN                                                NaN  \n",
       "13          NaN   NaN                                                NaN  \n",
       "31          NaN   NaN                                                NaN  \n",
       "5           NaN   NaN                                                NaN  \n",
       "27          NaN   NaN                                                NaN  \n",
       "32          NaN   NaN                                                NaN  \n",
       "51          NaN   NaN  http://www1.toronto.ca/City%20Of%20Toronto/Str...  \n",
       "6           NaN   NaN                                                NaN  \n",
       "11          NaN   NaN                                                NaN  \n",
       "45          NaN   NaN                                                NaN  \n",
       "46          NaN   NaN                                                NaN  \n",
       "14          NaN   NaN                                                NaN  \n",
       "33          NaN   NaN                                                NaN  \n",
       "42          NaN   NaN                                                NaN  \n",
       "7           NaN   NaN                                                NaN  \n",
       "8           NaN   NaN                                                NaN  \n",
       "9           NaN   NaN                                                NaN  \n",
       "50          NaN   NaN  http://www1.toronto.ca/City%20Of%20Toronto/Str...  \n",
       "15  ENGINEERING   NaN                                                NaN  \n",
       "38          NaN   NaN                                                NaN  \n",
       "18          NaN   NaN                                                NaN  \n",
       "20          NaN   NaN                                                NaN  \n",
       "43          NaN   NaN                                                NaN  \n",
       "44          NaN   NaN                                                NaN  \n",
       "52          NaN   NaN  http://www1.toronto.ca/City%20Of%20Toronto/Str...  \n",
       "41          NaN   NaN                                                NaN  \n",
       "39          NaN   NaN                                                NaN  "
      ]
     },
     "execution_count": 30,
     "metadata": {},
     "output_type": "execute_result"
    }
   ],
   "source": [
    "df2013"
   ]
  },
  {
   "cell_type": "code",
   "execution_count": 31,
   "metadata": {
    "collapsed": true
   },
   "outputs": [],
   "source": [
    "#df2013.to_csv('2013-gross_operating-v2.csv', index=None)"
   ]
  },
  {
   "cell_type": "code",
   "execution_count": 32,
   "metadata": {
    "collapsed": false
   },
   "outputs": [],
   "source": [
    "df2012 = pd.read_csv('./2012-gross_operating-v1.csv', skiprows=10)"
   ]
  },
  {
   "cell_type": "code",
   "execution_count": 33,
   "metadata": {
    "collapsed": false
   },
   "outputs": [
    {
     "data": {
      "text/html": [
       "<div>\n",
       "<table border=\"1\" class=\"dataframe\">\n",
       "  <thead>\n",
       "    <tr style=\"text-align: right;\">\n",
       "      <th></th>\n",
       "      <th>DIVISIONCODE</th>\n",
       "      <th>DivisionName</th>\n",
       "      <th>Amount</th>\n",
       "      <th>RollIntoCode</th>\n",
       "      <th>Note</th>\n",
       "      <th>AlternateSource</th>\n",
       "    </tr>\n",
       "  </thead>\n",
       "  <tbody>\n",
       "    <tr>\n",
       "      <th>0</th>\n",
       "      <td>NaN</td>\n",
       "      <td>Affordable Housing Office</td>\n",
       "      <td>2580.7</td>\n",
       "      <td>NaN</td>\n",
       "      <td>NaN</td>\n",
       "      <td>NaN</td>\n",
       "    </tr>\n",
       "    <tr>\n",
       "      <th>1</th>\n",
       "      <td>NaN</td>\n",
       "      <td>Children's Services</td>\n",
       "      <td>392491.5</td>\n",
       "      <td>NaN</td>\n",
       "      <td>NaN</td>\n",
       "      <td>NaN</td>\n",
       "    </tr>\n",
       "    <tr>\n",
       "      <th>2</th>\n",
       "      <td>NaN</td>\n",
       "      <td>Court Services</td>\n",
       "      <td>52262.3</td>\n",
       "      <td>NaN</td>\n",
       "      <td>NaN</td>\n",
       "      <td>NaN</td>\n",
       "    </tr>\n",
       "    <tr>\n",
       "      <th>3</th>\n",
       "      <td>NaN</td>\n",
       "      <td>Economic Development &amp; Culture</td>\n",
       "      <td>33436.0</td>\n",
       "      <td>NaN</td>\n",
       "      <td>NaN</td>\n",
       "      <td>NaN</td>\n",
       "    </tr>\n",
       "    <tr>\n",
       "      <th>4</th>\n",
       "      <td>NaN</td>\n",
       "      <td>Emergency Medical Services</td>\n",
       "      <td>169535.5</td>\n",
       "      <td>NaN</td>\n",
       "      <td>NaN</td>\n",
       "      <td>NaN</td>\n",
       "    </tr>\n",
       "  </tbody>\n",
       "</table>\n",
       "</div>"
      ],
      "text/plain": [
       "   DIVISIONCODE                    DivisionName    Amount  RollIntoCode  Note  \\\n",
       "0           NaN       Affordable Housing Office    2580.7           NaN   NaN   \n",
       "1           NaN             Children's Services  392491.5           NaN   NaN   \n",
       "2           NaN                  Court Services   52262.3           NaN   NaN   \n",
       "3           NaN  Economic Development & Culture   33436.0           NaN   NaN   \n",
       "4           NaN      Emergency Medical Services  169535.5           NaN   NaN   \n",
       "\n",
       "   AlternateSource  \n",
       "0              NaN  \n",
       "1              NaN  \n",
       "2              NaN  \n",
       "3              NaN  \n",
       "4              NaN  "
      ]
     },
     "execution_count": 33,
     "metadata": {},
     "output_type": "execute_result"
    }
   ],
   "source": [
    "df2012.head()"
   ]
  },
  {
   "cell_type": "code",
   "execution_count": 34,
   "metadata": {
    "collapsed": false
   },
   "outputs": [
    {
     "name": "stdout",
     "output_type": "stream",
     "text": [
      "exception occurred, amount is probably not strings: Can only use .str accessor with string values, which use np.object_ dtype in pandas\n",
      "   DIVISIONCODE                                  DivisionName   Amount  \\\n",
      "14          NaN  Policy, Planning, Finance and Administration  22104.0   \n",
      "47          NaN  Community Partnership and Investment Program  47197.1   \n",
      "\n",
      "    RollIntoCode  Note  AlternateSource  \n",
      "14           NaN   NaN              NaN  \n",
      "47           NaN   NaN              NaN  \n"
     ]
    }
   ],
   "source": [
    "df2012 = first_clean(df2012)"
   ]
  },
  {
   "cell_type": "code",
   "execution_count": 35,
   "metadata": {
    "collapsed": false
   },
   "outputs": [
    {
     "data": {
      "text/html": [
       "<div>\n",
       "<table border=\"1\" class=\"dataframe\">\n",
       "  <thead>\n",
       "    <tr style=\"text-align: right;\">\n",
       "      <th></th>\n",
       "      <th>DIVISIONCODE</th>\n",
       "      <th>DivisionName</th>\n",
       "      <th>Amount</th>\n",
       "      <th>RollIntoCode</th>\n",
       "      <th>Note</th>\n",
       "      <th>AlternateSource</th>\n",
       "    </tr>\n",
       "  </thead>\n",
       "  <tbody>\n",
       "    <tr>\n",
       "      <th>14</th>\n",
       "      <td>NaN</td>\n",
       "      <td>Policy, Planning, Finance and Administration</td>\n",
       "      <td>22104.0</td>\n",
       "      <td>NaN</td>\n",
       "      <td>NaN</td>\n",
       "      <td>NaN</td>\n",
       "    </tr>\n",
       "    <tr>\n",
       "      <th>47</th>\n",
       "      <td>NaN</td>\n",
       "      <td>Community Partnership and Investment Program</td>\n",
       "      <td>47197.1</td>\n",
       "      <td>NaN</td>\n",
       "      <td>NaN</td>\n",
       "      <td>NaN</td>\n",
       "    </tr>\n",
       "  </tbody>\n",
       "</table>\n",
       "</div>"
      ],
      "text/plain": [
       "   DIVISIONCODE                                  DivisionName   Amount  \\\n",
       "14          NaN  Policy, Planning, Finance and Administration  22104.0   \n",
       "47          NaN  Community Partnership and Investment Program  47197.1   \n",
       "\n",
       "    RollIntoCode  Note  AlternateSource  \n",
       "14           NaN   NaN              NaN  \n",
       "47           NaN   NaN              NaN  "
      ]
     },
     "execution_count": 35,
     "metadata": {},
     "output_type": "execute_result"
    }
   ],
   "source": [
    "df2012[df2012.DIVISIONCODE.isnull()]"
   ]
  },
  {
   "cell_type": "code",
   "execution_count": 36,
   "metadata": {
    "collapsed": true
   },
   "outputs": [],
   "source": [
    "new_codes_2012 = {'Community Partnership and Investment Program': 'CPIP'\n",
    "                  }\n",
    "\n",
    "miscodes_2012 = {'Policy, Planning, Finance and Administration': 'POLICYADMIN'}\n",
    "\n",
    "code_dict.update(new_codes_2012)\n",
    "code_dict.update(miscodes_2012)"
   ]
  },
  {
   "cell_type": "code",
   "execution_count": 37,
   "metadata": {
    "collapsed": false
   },
   "outputs": [],
   "source": [
    "df2012 = second_clean(df2012, code_dict)"
   ]
  },
  {
   "cell_type": "code",
   "execution_count": 38,
   "metadata": {
    "collapsed": true
   },
   "outputs": [],
   "source": [
    "next_year_category_2012 = {'CPIP': 'CITYMANAGER'}\n",
    "\n",
    "df2012['RollIntoCode'] = df2012['DIVISIONCODE'].map(next_year_category_2012)"
   ]
  },
  {
   "cell_type": "code",
   "execution_count": 39,
   "metadata": {
    "collapsed": true
   },
   "outputs": [],
   "source": [
    "#df2012.to_csv('2012-gross_operating-v2.csv', index=None)"
   ]
  },
  {
   "cell_type": "markdown",
   "metadata": {},
   "source": [
    "# 2011"
   ]
  },
  {
   "cell_type": "code",
   "execution_count": 40,
   "metadata": {
    "collapsed": true
   },
   "outputs": [],
   "source": [
    "df2011 = pd.read_csv('2011-gross_operating-v1.csv', skiprows=10)"
   ]
  },
  {
   "cell_type": "code",
   "execution_count": 41,
   "metadata": {
    "collapsed": false
   },
   "outputs": [
    {
     "data": {
      "text/html": [
       "<div>\n",
       "<table border=\"1\" class=\"dataframe\">\n",
       "  <thead>\n",
       "    <tr style=\"text-align: right;\">\n",
       "      <th></th>\n",
       "      <th>DIVISIONCODE</th>\n",
       "      <th>DivisionName</th>\n",
       "      <th>Amount</th>\n",
       "      <th>RollIntoCode</th>\n",
       "      <th>Note</th>\n",
       "      <th>AlternateSource</th>\n",
       "    </tr>\n",
       "  </thead>\n",
       "  <tbody>\n",
       "    <tr>\n",
       "      <th>0</th>\n",
       "      <td>NaN</td>\n",
       "      <td>Affordable Housing Office</td>\n",
       "      <td>2874.3</td>\n",
       "      <td>NaN</td>\n",
       "      <td>NaN</td>\n",
       "      <td>NaN</td>\n",
       "    </tr>\n",
       "    <tr>\n",
       "      <th>1</th>\n",
       "      <td>NaN</td>\n",
       "      <td>Children's Services</td>\n",
       "      <td>387538.4</td>\n",
       "      <td>NaN</td>\n",
       "      <td>NaN</td>\n",
       "      <td>NaN</td>\n",
       "    </tr>\n",
       "    <tr>\n",
       "      <th>2</th>\n",
       "      <td>NaN</td>\n",
       "      <td>Court Services</td>\n",
       "      <td>54267.4</td>\n",
       "      <td>NaN</td>\n",
       "      <td>NaN</td>\n",
       "      <td>NaN</td>\n",
       "    </tr>\n",
       "    <tr>\n",
       "      <th>3</th>\n",
       "      <td>NaN</td>\n",
       "      <td>Economic Development &amp; Culture</td>\n",
       "      <td>35335.8</td>\n",
       "      <td>NaN</td>\n",
       "      <td>NaN</td>\n",
       "      <td>NaN</td>\n",
       "    </tr>\n",
       "    <tr>\n",
       "      <th>4</th>\n",
       "      <td>NaN</td>\n",
       "      <td>Emergency Medical Services</td>\n",
       "      <td>170774.4</td>\n",
       "      <td>NaN</td>\n",
       "      <td>NaN</td>\n",
       "      <td>NaN</td>\n",
       "    </tr>\n",
       "  </tbody>\n",
       "</table>\n",
       "</div>"
      ],
      "text/plain": [
       "   DIVISIONCODE                    DivisionName    Amount  RollIntoCode  Note  \\\n",
       "0           NaN       Affordable Housing Office    2874.3           NaN   NaN   \n",
       "1           NaN             Children's Services  387538.4           NaN   NaN   \n",
       "2           NaN                  Court Services   54267.4           NaN   NaN   \n",
       "3           NaN  Economic Development & Culture   35335.8           NaN   NaN   \n",
       "4           NaN      Emergency Medical Services  170774.4           NaN   NaN   \n",
       "\n",
       "   AlternateSource  \n",
       "0              NaN  \n",
       "1              NaN  \n",
       "2              NaN  \n",
       "3              NaN  \n",
       "4              NaN  "
      ]
     },
     "execution_count": 41,
     "metadata": {},
     "output_type": "execute_result"
    }
   ],
   "source": [
    "df2011.head()"
   ]
  },
  {
   "cell_type": "code",
   "execution_count": 42,
   "metadata": {
    "collapsed": false
   },
   "outputs": [
    {
     "name": "stdout",
     "output_type": "stream",
     "text": [
      "exception occurred, amount is probably not strings: Can only use .str accessor with string values, which use np.object_ dtype in pandas\n",
      "   DIVISIONCODE                     DivisionName    Amount  RollIntoCode  \\\n",
      "10          NaN  3-1-1 Customer Service Strategy   19138.0           NaN   \n",
      "19          NaN           Waterfront Secretariat    1509.2           NaN   \n",
      "22          NaN         Facilities & Real Estate  169702.5           NaN   \n",
      "\n",
      "    Note  AlternateSource  \n",
      "10   NaN              NaN  \n",
      "19   NaN              NaN  \n",
      "22   NaN              NaN  \n"
     ]
    }
   ],
   "source": [
    "df2011 = first_clean(df2011)"
   ]
  },
  {
   "cell_type": "code",
   "execution_count": 43,
   "metadata": {
    "collapsed": false
   },
   "outputs": [
    {
     "data": {
      "text/html": [
       "<div>\n",
       "<table border=\"1\" class=\"dataframe\">\n",
       "  <thead>\n",
       "    <tr style=\"text-align: right;\">\n",
       "      <th></th>\n",
       "      <th>DIVISIONCODE</th>\n",
       "      <th>DivisionName</th>\n",
       "      <th>Amount</th>\n",
       "      <th>RollIntoCode</th>\n",
       "      <th>Note</th>\n",
       "      <th>AlternateSource</th>\n",
       "    </tr>\n",
       "  </thead>\n",
       "  <tbody>\n",
       "    <tr>\n",
       "      <th>10</th>\n",
       "      <td>NaN</td>\n",
       "      <td>3-1-1 Customer Service Strategy</td>\n",
       "      <td>19138.0</td>\n",
       "      <td>NaN</td>\n",
       "      <td>NaN</td>\n",
       "      <td>NaN</td>\n",
       "    </tr>\n",
       "    <tr>\n",
       "      <th>19</th>\n",
       "      <td>NaN</td>\n",
       "      <td>Waterfront Secretariat</td>\n",
       "      <td>1509.2</td>\n",
       "      <td>NaN</td>\n",
       "      <td>NaN</td>\n",
       "      <td>NaN</td>\n",
       "    </tr>\n",
       "    <tr>\n",
       "      <th>22</th>\n",
       "      <td>NaN</td>\n",
       "      <td>Facilities &amp; Real Estate</td>\n",
       "      <td>169702.5</td>\n",
       "      <td>NaN</td>\n",
       "      <td>NaN</td>\n",
       "      <td>NaN</td>\n",
       "    </tr>\n",
       "  </tbody>\n",
       "</table>\n",
       "</div>"
      ],
      "text/plain": [
       "   DIVISIONCODE                     DivisionName    Amount  RollIntoCode  \\\n",
       "10          NaN  3-1-1 Customer Service Strategy   19138.0           NaN   \n",
       "19          NaN           Waterfront Secretariat    1509.2           NaN   \n",
       "22          NaN         Facilities & Real Estate  169702.5           NaN   \n",
       "\n",
       "    Note  AlternateSource  \n",
       "10   NaN              NaN  \n",
       "19   NaN              NaN  \n",
       "22   NaN              NaN  "
      ]
     },
     "execution_count": 43,
     "metadata": {},
     "output_type": "execute_result"
    }
   ],
   "source": [
    "df2011[df2011.DIVISIONCODE.isnull()]"
   ]
  },
  {
   "cell_type": "code",
   "execution_count": 44,
   "metadata": {
    "collapsed": true
   },
   "outputs": [],
   "source": [
    "new_codes_2011 = {'Waterfront Secretariat': 'WATERFRONT',\n",
    "                  }\n",
    "\n",
    "miscodes_2011 = {'3-1-1 Customer Service Strategy': '311SERVICE',\n",
    "                 'Facilities & Real Estate': 'FACILITIES'}\n",
    "\n",
    "code_dict.update(new_codes_2011)\n",
    "code_dict.update(miscodes_2011)"
   ]
  },
  {
   "cell_type": "code",
   "execution_count": 45,
   "metadata": {
    "collapsed": true
   },
   "outputs": [],
   "source": [
    "df2011 = second_clean(df2011, code_dict)"
   ]
  },
  {
   "cell_type": "code",
   "execution_count": 46,
   "metadata": {
    "collapsed": true
   },
   "outputs": [],
   "source": [
    "next_year_category_2011 = {'WATERFRONT': 'CITYMANAGER'}\n",
    "\n",
    "df2011['RollIntoCode'] = df2011['DIVISIONCODE'].map(next_year_category_2011)"
   ]
  },
  {
   "cell_type": "code",
   "execution_count": 47,
   "metadata": {
    "collapsed": true
   },
   "outputs": [],
   "source": [
    "#df2011.to_csv('2011-gross_operating-v2.csv', index=None)"
   ]
  },
  {
   "cell_type": "code",
   "execution_count": 48,
   "metadata": {
    "collapsed": true
   },
   "outputs": [],
   "source": [
    "df2010 = pd.read_csv('./2010-gross_operating-v1.csv', skiprows=10)"
   ]
  },
  {
   "cell_type": "code",
   "execution_count": 49,
   "metadata": {
    "collapsed": false
   },
   "outputs": [
    {
     "data": {
      "text/html": [
       "<div>\n",
       "<table border=\"1\" class=\"dataframe\">\n",
       "  <thead>\n",
       "    <tr style=\"text-align: right;\">\n",
       "      <th></th>\n",
       "      <th>DIVISIONCODE</th>\n",
       "      <th>DivisionName</th>\n",
       "      <th>Amount</th>\n",
       "      <th>RollIntoCode</th>\n",
       "      <th>Note</th>\n",
       "      <th>AlternateSource</th>\n",
       "    </tr>\n",
       "  </thead>\n",
       "  <tbody>\n",
       "    <tr>\n",
       "      <th>0</th>\n",
       "      <td>NaN</td>\n",
       "      <td>Affordable Housing Office</td>\n",
       "      <td>3222.6</td>\n",
       "      <td>NaN</td>\n",
       "      <td>NaN</td>\n",
       "      <td>NaN</td>\n",
       "    </tr>\n",
       "    <tr>\n",
       "      <th>1</th>\n",
       "      <td>NaN</td>\n",
       "      <td>Children’s Services</td>\n",
       "      <td>378708.3</td>\n",
       "      <td>NaN</td>\n",
       "      <td>NaN</td>\n",
       "      <td>NaN</td>\n",
       "    </tr>\n",
       "    <tr>\n",
       "      <th>2</th>\n",
       "      <td>NaN</td>\n",
       "      <td>Court Services</td>\n",
       "      <td>52079.8</td>\n",
       "      <td>NaN</td>\n",
       "      <td>NaN</td>\n",
       "      <td>NaN</td>\n",
       "    </tr>\n",
       "    <tr>\n",
       "      <th>3</th>\n",
       "      <td>NaN</td>\n",
       "      <td>Economic Development &amp; Culture</td>\n",
       "      <td>35914.3</td>\n",
       "      <td>NaN</td>\n",
       "      <td>NaN</td>\n",
       "      <td>NaN</td>\n",
       "    </tr>\n",
       "    <tr>\n",
       "      <th>4</th>\n",
       "      <td>NaN</td>\n",
       "      <td>Emergency Medical Services</td>\n",
       "      <td>165266.1</td>\n",
       "      <td>NaN</td>\n",
       "      <td>NaN</td>\n",
       "      <td>NaN</td>\n",
       "    </tr>\n",
       "  </tbody>\n",
       "</table>\n",
       "</div>"
      ],
      "text/plain": [
       "   DIVISIONCODE                    DivisionName    Amount  RollIntoCode  Note  \\\n",
       "0           NaN       Affordable Housing Office    3222.6           NaN   NaN   \n",
       "1           NaN             Children’s Services  378708.3           NaN   NaN   \n",
       "2           NaN                  Court Services   52079.8           NaN   NaN   \n",
       "3           NaN  Economic Development & Culture   35914.3           NaN   NaN   \n",
       "4           NaN      Emergency Medical Services  165266.1           NaN   NaN   \n",
       "\n",
       "   AlternateSource  \n",
       "0              NaN  \n",
       "1              NaN  \n",
       "2              NaN  \n",
       "3              NaN  \n",
       "4              NaN  "
      ]
     },
     "execution_count": 49,
     "metadata": {},
     "output_type": "execute_result"
    }
   ],
   "source": [
    "df2010.head() "
   ]
  },
  {
   "cell_type": "code",
   "execution_count": 50,
   "metadata": {
    "collapsed": false
   },
   "outputs": [
    {
     "name": "stdout",
     "output_type": "stream",
     "text": [
      "exception occurred, amount is probably not strings: Can only use .str accessor with string values, which use np.object_ dtype in pandas\n",
      "   DIVISIONCODE                     DivisionName    Amount  RollIntoCode  \\\n",
      "1           NaN              Children’s Services  378708.3           NaN   \n",
      "10          NaN    311 Customer Service Strategy   17499.9           NaN   \n",
      "25          NaN            City Manager’s Office   41754.0           NaN   \n",
      "26          NaN              City Clerk’s Office   60163.7           NaN   \n",
      "28          NaN                   Mayor’s Office    2560.6           NaN   \n",
      "30          NaN         Auditor General’s Office    4283.1           NaN   \n",
      "31          NaN  Integrity Commissioner’s Office     203.9           NaN   \n",
      "52          NaN           Solid Waste Management  319821.4           NaN   \n",
      "\n",
      "    Note  AlternateSource  \n",
      "1    NaN              NaN  \n",
      "10   NaN              NaN  \n",
      "25   NaN              NaN  \n",
      "26   NaN              NaN  \n",
      "28   NaN              NaN  \n",
      "30   NaN              NaN  \n",
      "31   NaN              NaN  \n",
      "52   NaN              NaN  \n"
     ]
    }
   ],
   "source": [
    "df2010 = first_clean(df2010)"
   ]
  },
  {
   "cell_type": "code",
   "execution_count": 51,
   "metadata": {
    "collapsed": false
   },
   "outputs": [
    {
     "data": {
      "text/html": [
       "<div>\n",
       "<table border=\"1\" class=\"dataframe\">\n",
       "  <thead>\n",
       "    <tr style=\"text-align: right;\">\n",
       "      <th></th>\n",
       "      <th>DIVISIONCODE</th>\n",
       "      <th>DivisionName</th>\n",
       "      <th>Amount</th>\n",
       "      <th>RollIntoCode</th>\n",
       "      <th>Note</th>\n",
       "      <th>AlternateSource</th>\n",
       "    </tr>\n",
       "  </thead>\n",
       "  <tbody>\n",
       "    <tr>\n",
       "      <th>1</th>\n",
       "      <td>NaN</td>\n",
       "      <td>Children’s Services</td>\n",
       "      <td>378708.3</td>\n",
       "      <td>NaN</td>\n",
       "      <td>NaN</td>\n",
       "      <td>NaN</td>\n",
       "    </tr>\n",
       "    <tr>\n",
       "      <th>10</th>\n",
       "      <td>NaN</td>\n",
       "      <td>311 Customer Service Strategy</td>\n",
       "      <td>17499.9</td>\n",
       "      <td>NaN</td>\n",
       "      <td>NaN</td>\n",
       "      <td>NaN</td>\n",
       "    </tr>\n",
       "    <tr>\n",
       "      <th>25</th>\n",
       "      <td>NaN</td>\n",
       "      <td>City Manager’s Office</td>\n",
       "      <td>41754.0</td>\n",
       "      <td>NaN</td>\n",
       "      <td>NaN</td>\n",
       "      <td>NaN</td>\n",
       "    </tr>\n",
       "    <tr>\n",
       "      <th>26</th>\n",
       "      <td>NaN</td>\n",
       "      <td>City Clerk’s Office</td>\n",
       "      <td>60163.7</td>\n",
       "      <td>NaN</td>\n",
       "      <td>NaN</td>\n",
       "      <td>NaN</td>\n",
       "    </tr>\n",
       "    <tr>\n",
       "      <th>28</th>\n",
       "      <td>NaN</td>\n",
       "      <td>Mayor’s Office</td>\n",
       "      <td>2560.6</td>\n",
       "      <td>NaN</td>\n",
       "      <td>NaN</td>\n",
       "      <td>NaN</td>\n",
       "    </tr>\n",
       "    <tr>\n",
       "      <th>30</th>\n",
       "      <td>NaN</td>\n",
       "      <td>Auditor General’s Office</td>\n",
       "      <td>4283.1</td>\n",
       "      <td>NaN</td>\n",
       "      <td>NaN</td>\n",
       "      <td>NaN</td>\n",
       "    </tr>\n",
       "    <tr>\n",
       "      <th>31</th>\n",
       "      <td>NaN</td>\n",
       "      <td>Integrity Commissioner’s Office</td>\n",
       "      <td>203.9</td>\n",
       "      <td>NaN</td>\n",
       "      <td>NaN</td>\n",
       "      <td>NaN</td>\n",
       "    </tr>\n",
       "    <tr>\n",
       "      <th>52</th>\n",
       "      <td>NaN</td>\n",
       "      <td>Solid Waste Management</td>\n",
       "      <td>319821.4</td>\n",
       "      <td>NaN</td>\n",
       "      <td>NaN</td>\n",
       "      <td>NaN</td>\n",
       "    </tr>\n",
       "  </tbody>\n",
       "</table>\n",
       "</div>"
      ],
      "text/plain": [
       "   DIVISIONCODE                     DivisionName    Amount  RollIntoCode  \\\n",
       "1           NaN              Children’s Services  378708.3           NaN   \n",
       "10          NaN    311 Customer Service Strategy   17499.9           NaN   \n",
       "25          NaN            City Manager’s Office   41754.0           NaN   \n",
       "26          NaN              City Clerk’s Office   60163.7           NaN   \n",
       "28          NaN                   Mayor’s Office    2560.6           NaN   \n",
       "30          NaN         Auditor General’s Office    4283.1           NaN   \n",
       "31          NaN  Integrity Commissioner’s Office     203.9           NaN   \n",
       "52          NaN           Solid Waste Management  319821.4           NaN   \n",
       "\n",
       "    Note  AlternateSource  \n",
       "1    NaN              NaN  \n",
       "10   NaN              NaN  \n",
       "25   NaN              NaN  \n",
       "26   NaN              NaN  \n",
       "28   NaN              NaN  \n",
       "30   NaN              NaN  \n",
       "31   NaN              NaN  \n",
       "52   NaN              NaN  "
      ]
     },
     "execution_count": 51,
     "metadata": {},
     "output_type": "execute_result"
    }
   ],
   "source": [
    "df2010[df2010.DIVISIONCODE.isnull()]"
   ]
  },
  {
   "cell_type": "code",
   "execution_count": 52,
   "metadata": {
    "collapsed": true
   },
   "outputs": [],
   "source": [
    "new_codes_2010 = {}\n",
    "\n",
    "miscodes_2010 = {'Children’s Services': 'CHILDSERV',\n",
    "                 '311 Customer Service Strategy': '311SERVICE',\n",
    "                 \"City Manager’s Office\": 'CITYMANAGER',\n",
    "                 \"City Clerk’s Office\": 'CLERK',\n",
    "                 \"Mayor’s Office\": 'MAYOR',\n",
    "                 \"Auditor General’s Office\": 'AUDITGEN',\n",
    "                 \"Integrity Commissioner’s Office\": 'INTEGRITYCOMM',\n",
    "                 \"Solid Waste Management\": 'SOLIDWASTE'\n",
    "                 }\n",
    "\n",
    "code_dict.update(new_codes_2010)\n",
    "code_dict.update(miscodes_2010)"
   ]
  },
  {
   "cell_type": "code",
   "execution_count": 53,
   "metadata": {
    "collapsed": false
   },
   "outputs": [],
   "source": [
    "df2010 = second_clean(df2010, code_dict)"
   ]
  },
  {
   "cell_type": "code",
   "execution_count": 54,
   "metadata": {
    "collapsed": true
   },
   "outputs": [],
   "source": [
    "#df2010.to_csv('2010-gross_operating-v2.csv')"
   ]
  },
  {
   "cell_type": "code",
   "execution_count": 55,
   "metadata": {
    "collapsed": true
   },
   "outputs": [],
   "source": [
    "df2009 = pd.read_csv('2009-gross_operating-v1.csv', skiprows=10)"
   ]
  },
  {
   "cell_type": "code",
   "execution_count": 56,
   "metadata": {
    "collapsed": false
   },
   "outputs": [
    {
     "name": "stdout",
     "output_type": "stream",
     "text": [
      "exception occurred, amount is probably not strings: Can only use .str accessor with string values, which use np.object_ dtype in pandas\n",
      "   DIVISIONCODE                               DivisionName     Amount  \\\n",
      "3           NaN    Economic Development, Culture & Tourism    36410.8   \n",
      "44          NaN  Toronto Transit Commission – Conventional  1298364.7   \n",
      "45          NaN   Toronto Transit Commission – Wheel-Trans    80169.2   \n",
      "\n",
      "    RollIntoCode  Note  AlternateSource  \n",
      "3            NaN   NaN              NaN  \n",
      "44           NaN   NaN              NaN  \n",
      "45           NaN   NaN              NaN  \n"
     ]
    }
   ],
   "source": [
    "df2009 = first_clean(df2009)"
   ]
  },
  {
   "cell_type": "code",
   "execution_count": 57,
   "metadata": {
    "collapsed": false
   },
   "outputs": [
    {
     "data": {
      "text/html": [
       "<div>\n",
       "<table border=\"1\" class=\"dataframe\">\n",
       "  <thead>\n",
       "    <tr style=\"text-align: right;\">\n",
       "      <th></th>\n",
       "      <th>DIVISIONCODE</th>\n",
       "      <th>DivisionName</th>\n",
       "      <th>Amount</th>\n",
       "      <th>RollIntoCode</th>\n",
       "      <th>Note</th>\n",
       "      <th>AlternateSource</th>\n",
       "    </tr>\n",
       "  </thead>\n",
       "  <tbody>\n",
       "    <tr>\n",
       "      <th>3</th>\n",
       "      <td>NaN</td>\n",
       "      <td>Economic Development, Culture &amp; Tourism</td>\n",
       "      <td>36410.8</td>\n",
       "      <td>NaN</td>\n",
       "      <td>NaN</td>\n",
       "      <td>NaN</td>\n",
       "    </tr>\n",
       "    <tr>\n",
       "      <th>44</th>\n",
       "      <td>NaN</td>\n",
       "      <td>Toronto Transit Commission – Conventional</td>\n",
       "      <td>1298364.7</td>\n",
       "      <td>NaN</td>\n",
       "      <td>NaN</td>\n",
       "      <td>NaN</td>\n",
       "    </tr>\n",
       "    <tr>\n",
       "      <th>45</th>\n",
       "      <td>NaN</td>\n",
       "      <td>Toronto Transit Commission – Wheel-Trans</td>\n",
       "      <td>80169.2</td>\n",
       "      <td>NaN</td>\n",
       "      <td>NaN</td>\n",
       "      <td>NaN</td>\n",
       "    </tr>\n",
       "  </tbody>\n",
       "</table>\n",
       "</div>"
      ],
      "text/plain": [
       "   DIVISIONCODE                               DivisionName     Amount  \\\n",
       "3           NaN    Economic Development, Culture & Tourism    36410.8   \n",
       "44          NaN  Toronto Transit Commission – Conventional  1298364.7   \n",
       "45          NaN   Toronto Transit Commission – Wheel-Trans    80169.2   \n",
       "\n",
       "    RollIntoCode  Note  AlternateSource  \n",
       "3            NaN   NaN              NaN  \n",
       "44           NaN   NaN              NaN  \n",
       "45           NaN   NaN              NaN  "
      ]
     },
     "execution_count": 57,
     "metadata": {},
     "output_type": "execute_result"
    }
   ],
   "source": [
    "df2009[df2009.DIVISIONCODE.isnull()]"
   ]
  },
  {
   "cell_type": "code",
   "execution_count": 58,
   "metadata": {
    "collapsed": false
   },
   "outputs": [],
   "source": [
    "new_codes_2009 = {}\n",
    "\n",
    "miscodes_2009 = {'Toronto Transit Commission – Conventional': 'TTCCONV',\n",
    "                 'Toronto Transit Commission – Wheel-Trans': 'TTCWHEEL',\n",
    "                 'Economic Development, Culture & Tourism': 'ECONDEV'\n",
    "                }\n",
    "\n",
    "code_dict.update(new_codes_2009)\n",
    "code_dict.update(miscodes_2009)"
   ]
  },
  {
   "cell_type": "code",
   "execution_count": 59,
   "metadata": {
    "collapsed": true
   },
   "outputs": [],
   "source": [
    "df2009 = second_clean(df2009, code_dict)"
   ]
  },
  {
   "cell_type": "code",
   "execution_count": 62,
   "metadata": {
    "collapsed": true
   },
   "outputs": [],
   "source": [
    "#df2009.to_csv('2009-gross_operating-v2.csv')"
   ]
  },
  {
   "cell_type": "code",
   "execution_count": 61,
   "metadata": {
    "collapsed": true
   },
   "outputs": [],
   "source": [
    "df2008 = pd.read_csv('2008-gross_operating-v1.csv', skiprows=10)"
   ]
  },
  {
   "cell_type": "code",
   "execution_count": 63,
   "metadata": {
    "collapsed": false
   },
   "outputs": [
    {
     "name": "stdout",
     "output_type": "stream",
     "text": [
      "exception occurred, amount is probably not strings: Can only use .str accessor with string values, which use np.object_ dtype in pandas\n",
      "   DIVISIONCODE                           DivisionName     Amount  \\\n",
      "5           NaN                     Homes for the Aged   206613.3   \n",
      "9           NaN                        Social Services  1059949.5   \n",
      "22          NaN  Pubic Information & Creative Services     4771.7   \n",
      "26          NaN                   City Manager's Offic    39651.5   \n",
      "34          NaN             Office of the Ombudsperson      404.3   \n",
      "\n",
      "    RollIntoCode  Note AlternateSource  \n",
      "5            NaN   NaN             NaN  \n",
      "9            NaN   NaN             NaN  \n",
      "22           NaN   NaN             NaN  \n",
      "26           NaN   NaN             NaN  \n",
      "34           NaN   NaN             NaN  \n"
     ]
    }
   ],
   "source": [
    "df2008 = first_clean(df2008)"
   ]
  },
  {
   "cell_type": "code",
   "execution_count": 64,
   "metadata": {
    "collapsed": false
   },
   "outputs": [
    {
     "data": {
      "text/html": [
       "<div>\n",
       "<table border=\"1\" class=\"dataframe\">\n",
       "  <thead>\n",
       "    <tr style=\"text-align: right;\">\n",
       "      <th></th>\n",
       "      <th>DIVISIONCODE</th>\n",
       "      <th>DivisionName</th>\n",
       "      <th>Amount</th>\n",
       "      <th>RollIntoCode</th>\n",
       "      <th>Note</th>\n",
       "      <th>AlternateSource</th>\n",
       "    </tr>\n",
       "  </thead>\n",
       "  <tbody>\n",
       "    <tr>\n",
       "      <th>5</th>\n",
       "      <td>NaN</td>\n",
       "      <td>Homes for the Aged</td>\n",
       "      <td>206613.3</td>\n",
       "      <td>NaN</td>\n",
       "      <td>NaN</td>\n",
       "      <td>NaN</td>\n",
       "    </tr>\n",
       "    <tr>\n",
       "      <th>9</th>\n",
       "      <td>NaN</td>\n",
       "      <td>Social Services</td>\n",
       "      <td>1059949.5</td>\n",
       "      <td>NaN</td>\n",
       "      <td>NaN</td>\n",
       "      <td>NaN</td>\n",
       "    </tr>\n",
       "    <tr>\n",
       "      <th>22</th>\n",
       "      <td>NaN</td>\n",
       "      <td>Pubic Information &amp; Creative Services</td>\n",
       "      <td>4771.7</td>\n",
       "      <td>NaN</td>\n",
       "      <td>NaN</td>\n",
       "      <td>NaN</td>\n",
       "    </tr>\n",
       "    <tr>\n",
       "      <th>26</th>\n",
       "      <td>NaN</td>\n",
       "      <td>City Manager's Offic</td>\n",
       "      <td>39651.5</td>\n",
       "      <td>NaN</td>\n",
       "      <td>NaN</td>\n",
       "      <td>NaN</td>\n",
       "    </tr>\n",
       "    <tr>\n",
       "      <th>34</th>\n",
       "      <td>NaN</td>\n",
       "      <td>Office of the Ombudsperson</td>\n",
       "      <td>404.3</td>\n",
       "      <td>NaN</td>\n",
       "      <td>NaN</td>\n",
       "      <td>NaN</td>\n",
       "    </tr>\n",
       "  </tbody>\n",
       "</table>\n",
       "</div>"
      ],
      "text/plain": [
       "   DIVISIONCODE                           DivisionName     Amount  \\\n",
       "5           NaN                     Homes for the Aged   206613.3   \n",
       "9           NaN                        Social Services  1059949.5   \n",
       "22          NaN  Pubic Information & Creative Services     4771.7   \n",
       "26          NaN                   City Manager's Offic    39651.5   \n",
       "34          NaN             Office of the Ombudsperson      404.3   \n",
       "\n",
       "    RollIntoCode  Note AlternateSource  \n",
       "5            NaN   NaN             NaN  \n",
       "9            NaN   NaN             NaN  \n",
       "22           NaN   NaN             NaN  \n",
       "26           NaN   NaN             NaN  \n",
       "34           NaN   NaN             NaN  "
      ]
     },
     "execution_count": 64,
     "metadata": {},
     "output_type": "execute_result"
    }
   ],
   "source": [
    "df2008[df2008.DIVISIONCODE.isnull()]"
   ]
  },
  {
   "cell_type": "code",
   "execution_count": 65,
   "metadata": {
    "collapsed": true
   },
   "outputs": [],
   "source": [
    "new_codes_2008 = {'Homes for the Aged': 'AGEDHOMES',\n",
    "                  'Pubic Information & Creative Services': 'CREATIVEINFO'\n",
    "                 }\n",
    "\n",
    "miscodes_2008 = {'Social Services': 'SOCIALSERV',\n",
    "                 \"City Manager's Offic\": 'CITYMANAGER',\n",
    "                 'Office of the Ombudsperson': 'OMBUDSMAN'\n",
    "                }\n",
    "\n",
    "code_dict.update(new_codes_2008)\n",
    "code_dict.update(miscodes_2008)"
   ]
  },
  {
   "cell_type": "code",
   "execution_count": 66,
   "metadata": {
    "collapsed": true
   },
   "outputs": [],
   "source": [
    "df2008 = second_clean(df2008, code_dict)"
   ]
  },
  {
   "cell_type": "code",
   "execution_count": 67,
   "metadata": {
    "collapsed": true
   },
   "outputs": [],
   "source": [
    "next_year_category_2008 = {'AGEDHOMES': 'LONGTERMHOME',\n",
    "                           'CREATIVEINFO': 'IT'}\n",
    "\n",
    "df2008['RollIntoCode'] = df2008['DIVISIONCODE'].map(next_year_category_2008)"
   ]
  },
  {
   "cell_type": "code",
   "execution_count": 68,
   "metadata": {
    "collapsed": false
   },
   "outputs": [
    {
     "data": {
      "text/html": [
       "<div>\n",
       "<table border=\"1\" class=\"dataframe\">\n",
       "  <thead>\n",
       "    <tr style=\"text-align: right;\">\n",
       "      <th></th>\n",
       "      <th>DIVISIONCODE</th>\n",
       "      <th>DivisionName</th>\n",
       "      <th>Amount</th>\n",
       "      <th>RollIntoCode</th>\n",
       "      <th>Note</th>\n",
       "      <th>AlternateSource</th>\n",
       "    </tr>\n",
       "  </thead>\n",
       "  <tbody>\n",
       "  </tbody>\n",
       "</table>\n",
       "</div>"
      ],
      "text/plain": [
       "Empty DataFrame\n",
       "Columns: [DIVISIONCODE, DivisionName, Amount, RollIntoCode, Note, AlternateSource]\n",
       "Index: []"
      ]
     },
     "execution_count": 68,
     "metadata": {},
     "output_type": "execute_result"
    }
   ],
   "source": [
    "df2008[df2008.DIVISIONCODE.isnull()]"
   ]
  },
  {
   "cell_type": "code",
   "execution_count": 69,
   "metadata": {
    "collapsed": true
   },
   "outputs": [],
   "source": [
    "#df2008.to_csv('2008-gross_operating-v2.csv')"
   ]
  },
  {
   "cell_type": "code",
   "execution_count": 70,
   "metadata": {
    "collapsed": true
   },
   "outputs": [],
   "source": [
    "df2007 = pd.read_csv('2007-gross_operating-v1.csv', skiprows=10)"
   ]
  },
  {
   "cell_type": "code",
   "execution_count": 71,
   "metadata": {
    "collapsed": false
   },
   "outputs": [
    {
     "name": "stdout",
     "output_type": "stream",
     "text": [
      "exception occurred, amount is probably not strings: Can only use .str accessor with string values, which use np.object_ dtype in pandas\n",
      "   DIVISIONCODE                          DivisionName  Amount  RollIntoCode  \\\n",
      "12          NaN  Clean and Beautiful City Secretariat  1066.3           NaN   \n",
      "\n",
      "    Note  AlternateSource  \n",
      "12   NaN              NaN  \n"
     ]
    }
   ],
   "source": [
    "df2007 = first_clean(df2007)"
   ]
  },
  {
   "cell_type": "code",
   "execution_count": 72,
   "metadata": {
    "collapsed": false
   },
   "outputs": [
    {
     "data": {
      "text/html": [
       "<div>\n",
       "<table border=\"1\" class=\"dataframe\">\n",
       "  <thead>\n",
       "    <tr style=\"text-align: right;\">\n",
       "      <th></th>\n",
       "      <th>DIVISIONCODE</th>\n",
       "      <th>DivisionName</th>\n",
       "      <th>Amount</th>\n",
       "      <th>RollIntoCode</th>\n",
       "      <th>Note</th>\n",
       "      <th>AlternateSource</th>\n",
       "    </tr>\n",
       "  </thead>\n",
       "  <tbody>\n",
       "    <tr>\n",
       "      <th>12</th>\n",
       "      <td>NaN</td>\n",
       "      <td>Clean and Beautiful City Secretariat</td>\n",
       "      <td>1066.3</td>\n",
       "      <td>NaN</td>\n",
       "      <td>NaN</td>\n",
       "      <td>NaN</td>\n",
       "    </tr>\n",
       "  </tbody>\n",
       "</table>\n",
       "</div>"
      ],
      "text/plain": [
       "   DIVISIONCODE                          DivisionName  Amount  RollIntoCode  \\\n",
       "12          NaN  Clean and Beautiful City Secretariat  1066.3           NaN   \n",
       "\n",
       "    Note  AlternateSource  \n",
       "12   NaN              NaN  "
      ]
     },
     "execution_count": 72,
     "metadata": {},
     "output_type": "execute_result"
    }
   ],
   "source": [
    "df2007[df2007.DIVISIONCODE.isnull()]"
   ]
  },
  {
   "cell_type": "code",
   "execution_count": 73,
   "metadata": {
    "collapsed": true
   },
   "outputs": [],
   "source": [
    "new_codes_2007 = {'Clean and Beautiful City Secretariat': 'BEAUTY'}\n",
    "code_dict.update(new_codes_2007)"
   ]
  },
  {
   "cell_type": "markdown",
   "metadata": {},
   "source": [
    "# TODO: Need to determine a roll into category for 'Clean and Beautiful City Secretariat'"
   ]
  },
  {
   "cell_type": "code",
   "execution_count": 74,
   "metadata": {
    "collapsed": true
   },
   "outputs": [],
   "source": [
    "next_year_category_2007 = {'BEAUTY': ''\n",
    "                           }\n",
    "\n",
    "df2007['RollIntoCode'] = df2007['DIVISIONCODE'].map(next_year_category_2007)"
   ]
  },
  {
   "cell_type": "code",
   "execution_count": 75,
   "metadata": {
    "collapsed": true
   },
   "outputs": [],
   "source": [
    "df2007 = second_clean(df2007, code_dict)"
   ]
  },
  {
   "cell_type": "code",
   "execution_count": 76,
   "metadata": {
    "collapsed": true
   },
   "outputs": [],
   "source": [
    "#df2007.to_csv('2007-gross_operating-v2.csv', index=None)"
   ]
  },
  {
   "cell_type": "code",
   "execution_count": 77,
   "metadata": {
    "collapsed": true
   },
   "outputs": [],
   "source": [
    "df2006 = pd.read_csv('2006-gross_operating-v1.csv', skiprows=10)"
   ]
  },
  {
   "cell_type": "code",
   "execution_count": 78,
   "metadata": {
    "collapsed": false
   },
   "outputs": [
    {
     "name": "stdout",
     "output_type": "stream",
     "text": [
      "exception occurred, amount is probably not strings: Can only use .str accessor with string values, which use np.object_ dtype in pandas\n",
      "   DIVISIONCODE                                   DivisionName    Amount  \\\n",
      "3           NaN                                        Culture   15917.8   \n",
      "4           NaN                           Economic Development    9870.5   \n",
      "8           NaN       Shelter Support & Housing Administration  698078.3   \n",
      "9           NaN    Social Development Finance & Administration   32832.8   \n",
      "11          NaN                                        Tourism    8977.5   \n",
      "12          NaN                3-1-1 Project Management Office     615.3   \n",
      "13          NaN                              Economic Recovery       0.0   \n",
      "14          NaN                              Building Services   39276.0   \n",
      "15          NaN                      Business Support Services   10340.7   \n",
      "23          NaN                               Support Services       0.0   \n",
      "25          NaN  Office of the DCM and Chief Financial Officer   16885.7   \n",
      "27          NaN                       Corporate Communications    7189.4   \n",
      "32          NaN                                Human Resources   29644.8   \n",
      "36          NaN                            Office of the Mayor    1888.2   \n",
      "37          NaN                                        Council   18791.1   \n",
      "40          NaN               Association of Community Centers    6008.6   \n",
      "46          NaN                            Yonge/Dundas Square    1072.4   \n",
      "\n",
      "    RollIntoCode  Note  AlternateSource  \n",
      "3            NaN   NaN              NaN  \n",
      "4            NaN   NaN              NaN  \n",
      "8            NaN   NaN              NaN  \n",
      "9            NaN   NaN              NaN  \n",
      "11           NaN   NaN              NaN  \n",
      "12           NaN   NaN              NaN  \n",
      "13           NaN   NaN              NaN  \n",
      "14           NaN   NaN              NaN  \n",
      "15           NaN   NaN              NaN  \n",
      "23           NaN   NaN              NaN  \n",
      "25           NaN   NaN              NaN  \n",
      "27           NaN   NaN              NaN  \n",
      "32           NaN   NaN              NaN  \n",
      "36           NaN   NaN              NaN  \n",
      "37           NaN   NaN              NaN  \n",
      "40           NaN   NaN              NaN  \n",
      "46           NaN   NaN              NaN  \n"
     ]
    }
   ],
   "source": [
    "df2006 = first_clean(df2006)"
   ]
  },
  {
   "cell_type": "code",
   "execution_count": 79,
   "metadata": {
    "collapsed": false
   },
   "outputs": [
    {
     "data": {
      "text/html": [
       "<div>\n",
       "<table border=\"1\" class=\"dataframe\">\n",
       "  <thead>\n",
       "    <tr style=\"text-align: right;\">\n",
       "      <th></th>\n",
       "      <th>DIVISIONCODE</th>\n",
       "      <th>DivisionName</th>\n",
       "      <th>Amount</th>\n",
       "      <th>RollIntoCode</th>\n",
       "      <th>Note</th>\n",
       "      <th>AlternateSource</th>\n",
       "    </tr>\n",
       "  </thead>\n",
       "  <tbody>\n",
       "    <tr>\n",
       "      <th>3</th>\n",
       "      <td>NaN</td>\n",
       "      <td>Culture</td>\n",
       "      <td>15917.8</td>\n",
       "      <td>NaN</td>\n",
       "      <td>NaN</td>\n",
       "      <td>NaN</td>\n",
       "    </tr>\n",
       "    <tr>\n",
       "      <th>4</th>\n",
       "      <td>NaN</td>\n",
       "      <td>Economic Development</td>\n",
       "      <td>9870.5</td>\n",
       "      <td>NaN</td>\n",
       "      <td>NaN</td>\n",
       "      <td>NaN</td>\n",
       "    </tr>\n",
       "    <tr>\n",
       "      <th>8</th>\n",
       "      <td>NaN</td>\n",
       "      <td>Shelter Support &amp; Housing Administration</td>\n",
       "      <td>698078.3</td>\n",
       "      <td>NaN</td>\n",
       "      <td>NaN</td>\n",
       "      <td>NaN</td>\n",
       "    </tr>\n",
       "    <tr>\n",
       "      <th>9</th>\n",
       "      <td>NaN</td>\n",
       "      <td>Social Development Finance &amp; Administration</td>\n",
       "      <td>32832.8</td>\n",
       "      <td>NaN</td>\n",
       "      <td>NaN</td>\n",
       "      <td>NaN</td>\n",
       "    </tr>\n",
       "    <tr>\n",
       "      <th>11</th>\n",
       "      <td>NaN</td>\n",
       "      <td>Tourism</td>\n",
       "      <td>8977.5</td>\n",
       "      <td>NaN</td>\n",
       "      <td>NaN</td>\n",
       "      <td>NaN</td>\n",
       "    </tr>\n",
       "    <tr>\n",
       "      <th>12</th>\n",
       "      <td>NaN</td>\n",
       "      <td>3-1-1 Project Management Office</td>\n",
       "      <td>615.3</td>\n",
       "      <td>NaN</td>\n",
       "      <td>NaN</td>\n",
       "      <td>NaN</td>\n",
       "    </tr>\n",
       "    <tr>\n",
       "      <th>13</th>\n",
       "      <td>NaN</td>\n",
       "      <td>Economic Recovery</td>\n",
       "      <td>0.0</td>\n",
       "      <td>NaN</td>\n",
       "      <td>NaN</td>\n",
       "      <td>NaN</td>\n",
       "    </tr>\n",
       "    <tr>\n",
       "      <th>14</th>\n",
       "      <td>NaN</td>\n",
       "      <td>Building Services</td>\n",
       "      <td>39276.0</td>\n",
       "      <td>NaN</td>\n",
       "      <td>NaN</td>\n",
       "      <td>NaN</td>\n",
       "    </tr>\n",
       "    <tr>\n",
       "      <th>15</th>\n",
       "      <td>NaN</td>\n",
       "      <td>Business Support Services</td>\n",
       "      <td>10340.7</td>\n",
       "      <td>NaN</td>\n",
       "      <td>NaN</td>\n",
       "      <td>NaN</td>\n",
       "    </tr>\n",
       "    <tr>\n",
       "      <th>23</th>\n",
       "      <td>NaN</td>\n",
       "      <td>Support Services</td>\n",
       "      <td>0.0</td>\n",
       "      <td>NaN</td>\n",
       "      <td>NaN</td>\n",
       "      <td>NaN</td>\n",
       "    </tr>\n",
       "    <tr>\n",
       "      <th>25</th>\n",
       "      <td>NaN</td>\n",
       "      <td>Office of the DCM and Chief Financial Officer</td>\n",
       "      <td>16885.7</td>\n",
       "      <td>NaN</td>\n",
       "      <td>NaN</td>\n",
       "      <td>NaN</td>\n",
       "    </tr>\n",
       "    <tr>\n",
       "      <th>27</th>\n",
       "      <td>NaN</td>\n",
       "      <td>Corporate Communications</td>\n",
       "      <td>7189.4</td>\n",
       "      <td>NaN</td>\n",
       "      <td>NaN</td>\n",
       "      <td>NaN</td>\n",
       "    </tr>\n",
       "    <tr>\n",
       "      <th>32</th>\n",
       "      <td>NaN</td>\n",
       "      <td>Human Resources</td>\n",
       "      <td>29644.8</td>\n",
       "      <td>NaN</td>\n",
       "      <td>NaN</td>\n",
       "      <td>NaN</td>\n",
       "    </tr>\n",
       "    <tr>\n",
       "      <th>36</th>\n",
       "      <td>NaN</td>\n",
       "      <td>Office of the Mayor</td>\n",
       "      <td>1888.2</td>\n",
       "      <td>NaN</td>\n",
       "      <td>NaN</td>\n",
       "      <td>NaN</td>\n",
       "    </tr>\n",
       "    <tr>\n",
       "      <th>37</th>\n",
       "      <td>NaN</td>\n",
       "      <td>Council</td>\n",
       "      <td>18791.1</td>\n",
       "      <td>NaN</td>\n",
       "      <td>NaN</td>\n",
       "      <td>NaN</td>\n",
       "    </tr>\n",
       "    <tr>\n",
       "      <th>40</th>\n",
       "      <td>NaN</td>\n",
       "      <td>Association of Community Centers</td>\n",
       "      <td>6008.6</td>\n",
       "      <td>NaN</td>\n",
       "      <td>NaN</td>\n",
       "      <td>NaN</td>\n",
       "    </tr>\n",
       "    <tr>\n",
       "      <th>46</th>\n",
       "      <td>NaN</td>\n",
       "      <td>Yonge/Dundas Square</td>\n",
       "      <td>1072.4</td>\n",
       "      <td>NaN</td>\n",
       "      <td>NaN</td>\n",
       "      <td>NaN</td>\n",
       "    </tr>\n",
       "  </tbody>\n",
       "</table>\n",
       "</div>"
      ],
      "text/plain": [
       "   DIVISIONCODE                                   DivisionName    Amount  \\\n",
       "3           NaN                                        Culture   15917.8   \n",
       "4           NaN                           Economic Development    9870.5   \n",
       "8           NaN       Shelter Support & Housing Administration  698078.3   \n",
       "9           NaN    Social Development Finance & Administration   32832.8   \n",
       "11          NaN                                        Tourism    8977.5   \n",
       "12          NaN                3-1-1 Project Management Office     615.3   \n",
       "13          NaN                              Economic Recovery       0.0   \n",
       "14          NaN                              Building Services   39276.0   \n",
       "15          NaN                      Business Support Services   10340.7   \n",
       "23          NaN                               Support Services       0.0   \n",
       "25          NaN  Office of the DCM and Chief Financial Officer   16885.7   \n",
       "27          NaN                       Corporate Communications    7189.4   \n",
       "32          NaN                                Human Resources   29644.8   \n",
       "36          NaN                            Office of the Mayor    1888.2   \n",
       "37          NaN                                        Council   18791.1   \n",
       "40          NaN               Association of Community Centers    6008.6   \n",
       "46          NaN                            Yonge/Dundas Square    1072.4   \n",
       "\n",
       "    RollIntoCode  Note  AlternateSource  \n",
       "3            NaN   NaN              NaN  \n",
       "4            NaN   NaN              NaN  \n",
       "8            NaN   NaN              NaN  \n",
       "9            NaN   NaN              NaN  \n",
       "11           NaN   NaN              NaN  \n",
       "12           NaN   NaN              NaN  \n",
       "13           NaN   NaN              NaN  \n",
       "14           NaN   NaN              NaN  \n",
       "15           NaN   NaN              NaN  \n",
       "23           NaN   NaN              NaN  \n",
       "25           NaN   NaN              NaN  \n",
       "27           NaN   NaN              NaN  \n",
       "32           NaN   NaN              NaN  \n",
       "36           NaN   NaN              NaN  \n",
       "37           NaN   NaN              NaN  \n",
       "40           NaN   NaN              NaN  \n",
       "46           NaN   NaN              NaN  "
      ]
     },
     "execution_count": 79,
     "metadata": {},
     "output_type": "execute_result"
    }
   ],
   "source": [
    "df2006[df2006.DIVISIONCODE.isnull()]"
   ]
  },
  {
   "cell_type": "code",
   "execution_count": 80,
   "metadata": {
    "collapsed": false
   },
   "outputs": [],
   "source": [
    "new_codes_2006 = {'Culture': 'CULTURE',\n",
    "                  'Tourism': 'TOURISM',\n",
    "                  'Economic Recovery': 'ECONRECOV',\n",
    "                  'Business Support Services': 'BIZSUPPORT',\n",
    "                  'Support Services': 'SUPPORTSERV',\n",
    "                  'Corporate Communications':'CORPCOMMS',\n",
    "                  'Human Resources': 'HUMANRESOURCES',\n",
    "                  }\n",
    "\n",
    "miscodes_2006 = {'Economic Development': 'ECONDEV',\n",
    "                 '3-1-1 Project Management Office': '311SERVICE',\n",
    "                 'Shelter Support & Housing Administration': 'SHELTERADMIN',\n",
    "                 'Office of the DCM and Chief Financial Officer': 'CFO', #this might need to be split and rolled into CFO later\n",
    "                 'Social Development Finance & Administration': 'SOCIALDEV',\n",
    "                 'Building Services': 'BUILDINGS',\n",
    "                 'Office of the Mayor': 'MAYOR',\n",
    "                 'Council': 'COUNCIL',\n",
    "                 'Association of Community Centers': 'COMMCENTRES',\n",
    "                 'Yonge/Dundas Square': 'YONGEDUNDAS'\n",
    "                 }\n",
    "\n",
    "code_dict.update(new_codes_2006)\n",
    "code_dict.update(miscodes_2006)"
   ]
  },
  {
   "cell_type": "code",
   "execution_count": 81,
   "metadata": {
    "collapsed": false
   },
   "outputs": [],
   "source": [
    "df2006 = second_clean(df2006, code_dict)"
   ]
  },
  {
   "cell_type": "markdown",
   "metadata": {},
   "source": [
    "\n",
    "# TODO: Still need to find a roll into category for corporate communications here:\n"
   ]
  },
  {
   "cell_type": "code",
   "execution_count": 82,
   "metadata": {
    "collapsed": true
   },
   "outputs": [],
   "source": [
    "next_year_category_2006 = {'CULTURE': 'ECONDEV',\n",
    "                           'TOURISM': 'ECONDEV',\n",
    "                           'ECONOMICRECOV': '',\n",
    "                           'BIZSUPPORT': 'ECONDEV',\n",
    "                           'SUPPORTSERV': 'ENGINEERING',\n",
    "                           'CORPCOMMS': '',\n",
    "                           'HUMANRESOURCES': 'CITYMANAGER'\n",
    "                           }\n",
    "\n",
    "df2006['RollIntoCode'] = df2006['DIVISIONCODE'].map(next_year_category_2006)"
   ]
  },
  {
   "cell_type": "code",
   "execution_count": 85,
   "metadata": {
    "collapsed": true
   },
   "outputs": [],
   "source": [
    "#df2006.to_csv('2006-gross_operating-v2.csv', index=None)"
   ]
  },
  {
   "cell_type": "code",
   "execution_count": 86,
   "metadata": {
    "collapsed": true
   },
   "outputs": [],
   "source": [
    "df2005 = pd.read_csv('2005-gross_operating-v1.csv', skiprows=10)"
   ]
  },
  {
   "cell_type": "code",
   "execution_count": 89,
   "metadata": {
    "collapsed": false,
    "scrolled": true
   },
   "outputs": [
    {
     "name": "stdout",
     "output_type": "stream",
     "text": [
      "exception occurred, amount is probably not strings: Can only use .str accessor with string values, which use np.object_ dtype in pandas\n",
      "   DIVISIONCODE                                       DivisionName    Amount  \\\n",
      "2           NaN                         Shelter, Housing & Support  674132.4   \n",
      "3           NaN                Social Development & Administration   18508.0   \n",
      "7           NaN                          Emergency Management Plan       NaN   \n",
      "10          NaN                             WES - Support Services   35726.8   \n",
      "11          NaN                           WES - Technical Services   55384.9   \n",
      "13          NaN                        Customer & Business Support   19935.2   \n",
      "16          NaN                                 Parks & Recreation  248203.7   \n",
      "18          NaN                         Urban Development Services  101454.5   \n",
      "26          NaN                                              Legal   25630.4   \n",
      "27          NaN                   Service Improvement & Innovation    7317.7   \n",
      "28          NaN                                            Finance   68359.9   \n",
      "30          NaN                       Chief Administrator's Office    5836.7   \n",
      "33          NaN                                      3-1-1 Project     503.1   \n",
      "40          NaN                               Toronto Police Board    1278.1   \n",
      "48          NaN  Corporate Accounts Community Partnership and I...   44078.2   \n",
      "50          NaN                     Total Non-Program Expenditures  436080.4   \n",
      "51          NaN                         Total Non-Program Revenues       NaN   \n",
      "52          NaN                                  Parking Authority   54281.8   \n",
      "\n",
      "    RollIntoCode                                               Note  \\\n",
      "2            NaN                                                NaN   \n",
      "3            NaN                                                NaN   \n",
      "7            NaN                                                NaN   \n",
      "10           NaN                                                NaN   \n",
      "11           NaN                                                NaN   \n",
      "13           NaN                                                NaN   \n",
      "16           NaN                                                NaN   \n",
      "18           NaN                                                NaN   \n",
      "26           NaN                                                NaN   \n",
      "27           NaN                                                NaN   \n",
      "28           NaN                                                NaN   \n",
      "30           NaN                                                NaN   \n",
      "33           NaN                                                NaN   \n",
      "40           NaN                                                NaN   \n",
      "48           NaN                                                NaN   \n",
      "50           NaN                                                NaN   \n",
      "51           NaN                                                NaN   \n",
      "52           NaN  Parking Authority's net revenue is distributed...   \n",
      "\n",
      "    AlternateSource  \n",
      "2               NaN  \n",
      "3               NaN  \n",
      "7               NaN  \n",
      "10              NaN  \n",
      "11              NaN  \n",
      "13              NaN  \n",
      "16              NaN  \n",
      "18              NaN  \n",
      "26              NaN  \n",
      "27              NaN  \n",
      "28              NaN  \n",
      "30              NaN  \n",
      "33              NaN  \n",
      "40              NaN  \n",
      "48              NaN  \n",
      "50              NaN  \n",
      "51              NaN  \n",
      "52              NaN  \n"
     ]
    }
   ],
   "source": [
    "df2005 = first_clean(df2005)"
   ]
  },
  {
   "cell_type": "code",
   "execution_count": 90,
   "metadata": {
    "collapsed": false
   },
   "outputs": [
    {
     "data": {
      "text/html": [
       "<div>\n",
       "<table border=\"1\" class=\"dataframe\">\n",
       "  <thead>\n",
       "    <tr style=\"text-align: right;\">\n",
       "      <th></th>\n",
       "      <th>DIVISIONCODE</th>\n",
       "      <th>DivisionName</th>\n",
       "      <th>Amount</th>\n",
       "      <th>RollIntoCode</th>\n",
       "      <th>Note</th>\n",
       "      <th>AlternateSource</th>\n",
       "    </tr>\n",
       "  </thead>\n",
       "  <tbody>\n",
       "    <tr>\n",
       "      <th>2</th>\n",
       "      <td>NaN</td>\n",
       "      <td>Shelter, Housing &amp; Support</td>\n",
       "      <td>674132.4</td>\n",
       "      <td>NaN</td>\n",
       "      <td>NaN</td>\n",
       "      <td>NaN</td>\n",
       "    </tr>\n",
       "    <tr>\n",
       "      <th>3</th>\n",
       "      <td>NaN</td>\n",
       "      <td>Social Development &amp; Administration</td>\n",
       "      <td>18508.0</td>\n",
       "      <td>NaN</td>\n",
       "      <td>NaN</td>\n",
       "      <td>NaN</td>\n",
       "    </tr>\n",
       "    <tr>\n",
       "      <th>7</th>\n",
       "      <td>NaN</td>\n",
       "      <td>Emergency Management Plan</td>\n",
       "      <td>NaN</td>\n",
       "      <td>NaN</td>\n",
       "      <td>NaN</td>\n",
       "      <td>NaN</td>\n",
       "    </tr>\n",
       "    <tr>\n",
       "      <th>10</th>\n",
       "      <td>NaN</td>\n",
       "      <td>WES - Support Services</td>\n",
       "      <td>35726.8</td>\n",
       "      <td>NaN</td>\n",
       "      <td>NaN</td>\n",
       "      <td>NaN</td>\n",
       "    </tr>\n",
       "    <tr>\n",
       "      <th>11</th>\n",
       "      <td>NaN</td>\n",
       "      <td>WES - Technical Services</td>\n",
       "      <td>55384.9</td>\n",
       "      <td>NaN</td>\n",
       "      <td>NaN</td>\n",
       "      <td>NaN</td>\n",
       "    </tr>\n",
       "    <tr>\n",
       "      <th>13</th>\n",
       "      <td>NaN</td>\n",
       "      <td>Customer &amp; Business Support</td>\n",
       "      <td>19935.2</td>\n",
       "      <td>NaN</td>\n",
       "      <td>NaN</td>\n",
       "      <td>NaN</td>\n",
       "    </tr>\n",
       "    <tr>\n",
       "      <th>16</th>\n",
       "      <td>NaN</td>\n",
       "      <td>Parks &amp; Recreation</td>\n",
       "      <td>248203.7</td>\n",
       "      <td>NaN</td>\n",
       "      <td>NaN</td>\n",
       "      <td>NaN</td>\n",
       "    </tr>\n",
       "    <tr>\n",
       "      <th>18</th>\n",
       "      <td>NaN</td>\n",
       "      <td>Urban Development Services</td>\n",
       "      <td>101454.5</td>\n",
       "      <td>NaN</td>\n",
       "      <td>NaN</td>\n",
       "      <td>NaN</td>\n",
       "    </tr>\n",
       "    <tr>\n",
       "      <th>26</th>\n",
       "      <td>NaN</td>\n",
       "      <td>Legal</td>\n",
       "      <td>25630.4</td>\n",
       "      <td>NaN</td>\n",
       "      <td>NaN</td>\n",
       "      <td>NaN</td>\n",
       "    </tr>\n",
       "    <tr>\n",
       "      <th>27</th>\n",
       "      <td>NaN</td>\n",
       "      <td>Service Improvement &amp; Innovation</td>\n",
       "      <td>7317.7</td>\n",
       "      <td>NaN</td>\n",
       "      <td>NaN</td>\n",
       "      <td>NaN</td>\n",
       "    </tr>\n",
       "    <tr>\n",
       "      <th>28</th>\n",
       "      <td>NaN</td>\n",
       "      <td>Finance</td>\n",
       "      <td>68359.9</td>\n",
       "      <td>NaN</td>\n",
       "      <td>NaN</td>\n",
       "      <td>NaN</td>\n",
       "    </tr>\n",
       "    <tr>\n",
       "      <th>30</th>\n",
       "      <td>NaN</td>\n",
       "      <td>Chief Administrator's Office</td>\n",
       "      <td>5836.7</td>\n",
       "      <td>NaN</td>\n",
       "      <td>NaN</td>\n",
       "      <td>NaN</td>\n",
       "    </tr>\n",
       "    <tr>\n",
       "      <th>33</th>\n",
       "      <td>NaN</td>\n",
       "      <td>3-1-1 Project</td>\n",
       "      <td>503.1</td>\n",
       "      <td>NaN</td>\n",
       "      <td>NaN</td>\n",
       "      <td>NaN</td>\n",
       "    </tr>\n",
       "    <tr>\n",
       "      <th>40</th>\n",
       "      <td>NaN</td>\n",
       "      <td>Toronto Police Board</td>\n",
       "      <td>1278.1</td>\n",
       "      <td>NaN</td>\n",
       "      <td>NaN</td>\n",
       "      <td>NaN</td>\n",
       "    </tr>\n",
       "    <tr>\n",
       "      <th>48</th>\n",
       "      <td>NaN</td>\n",
       "      <td>Corporate Accounts Community Partnership and I...</td>\n",
       "      <td>44078.2</td>\n",
       "      <td>NaN</td>\n",
       "      <td>NaN</td>\n",
       "      <td>NaN</td>\n",
       "    </tr>\n",
       "    <tr>\n",
       "      <th>50</th>\n",
       "      <td>NaN</td>\n",
       "      <td>Total Non-Program Expenditures</td>\n",
       "      <td>436080.4</td>\n",
       "      <td>NaN</td>\n",
       "      <td>NaN</td>\n",
       "      <td>NaN</td>\n",
       "    </tr>\n",
       "    <tr>\n",
       "      <th>51</th>\n",
       "      <td>NaN</td>\n",
       "      <td>Total Non-Program Revenues</td>\n",
       "      <td>NaN</td>\n",
       "      <td>NaN</td>\n",
       "      <td>NaN</td>\n",
       "      <td>NaN</td>\n",
       "    </tr>\n",
       "    <tr>\n",
       "      <th>52</th>\n",
       "      <td>NaN</td>\n",
       "      <td>Parking Authority</td>\n",
       "      <td>54281.8</td>\n",
       "      <td>NaN</td>\n",
       "      <td>Parking Authority's net revenue is distributed...</td>\n",
       "      <td>NaN</td>\n",
       "    </tr>\n",
       "  </tbody>\n",
       "</table>\n",
       "</div>"
      ],
      "text/plain": [
       "   DIVISIONCODE                                       DivisionName    Amount  \\\n",
       "2           NaN                         Shelter, Housing & Support  674132.4   \n",
       "3           NaN                Social Development & Administration   18508.0   \n",
       "7           NaN                          Emergency Management Plan       NaN   \n",
       "10          NaN                             WES - Support Services   35726.8   \n",
       "11          NaN                           WES - Technical Services   55384.9   \n",
       "13          NaN                        Customer & Business Support   19935.2   \n",
       "16          NaN                                 Parks & Recreation  248203.7   \n",
       "18          NaN                         Urban Development Services  101454.5   \n",
       "26          NaN                                              Legal   25630.4   \n",
       "27          NaN                   Service Improvement & Innovation    7317.7   \n",
       "28          NaN                                            Finance   68359.9   \n",
       "30          NaN                       Chief Administrator's Office    5836.7   \n",
       "33          NaN                                      3-1-1 Project     503.1   \n",
       "40          NaN                               Toronto Police Board    1278.1   \n",
       "48          NaN  Corporate Accounts Community Partnership and I...   44078.2   \n",
       "50          NaN                     Total Non-Program Expenditures  436080.4   \n",
       "51          NaN                         Total Non-Program Revenues       NaN   \n",
       "52          NaN                                  Parking Authority   54281.8   \n",
       "\n",
       "    RollIntoCode                                               Note  \\\n",
       "2            NaN                                                NaN   \n",
       "3            NaN                                                NaN   \n",
       "7            NaN                                                NaN   \n",
       "10           NaN                                                NaN   \n",
       "11           NaN                                                NaN   \n",
       "13           NaN                                                NaN   \n",
       "16           NaN                                                NaN   \n",
       "18           NaN                                                NaN   \n",
       "26           NaN                                                NaN   \n",
       "27           NaN                                                NaN   \n",
       "28           NaN                                                NaN   \n",
       "30           NaN                                                NaN   \n",
       "33           NaN                                                NaN   \n",
       "40           NaN                                                NaN   \n",
       "48           NaN                                                NaN   \n",
       "50           NaN                                                NaN   \n",
       "51           NaN                                                NaN   \n",
       "52           NaN  Parking Authority's net revenue is distributed...   \n",
       "\n",
       "    AlternateSource  \n",
       "2               NaN  \n",
       "3               NaN  \n",
       "7               NaN  \n",
       "10              NaN  \n",
       "11              NaN  \n",
       "13              NaN  \n",
       "16              NaN  \n",
       "18              NaN  \n",
       "26              NaN  \n",
       "27              NaN  \n",
       "28              NaN  \n",
       "30              NaN  \n",
       "33              NaN  \n",
       "40              NaN  \n",
       "48              NaN  \n",
       "50              NaN  \n",
       "51              NaN  \n",
       "52              NaN  "
      ]
     },
     "execution_count": 90,
     "metadata": {},
     "output_type": "execute_result"
    }
   ],
   "source": [
    "df2005[df2005.DIVISIONCODE.isnull()]"
   ]
  },
  {
   "cell_type": "code",
   "execution_count": 91,
   "metadata": {
    "collapsed": false
   },
   "outputs": [],
   "source": [
    "new_codes_2005 = {'Emergency Management Plan': 'EMERGPLAN',\n",
    "                  'Service Improvement & Innovation': 'INNOVATION',\n",
    "                  'Finance': 'FINANCE',\n",
    "                  \"Chief Administrator's Office\": 'CITYMANAGER'                 \n",
    "                 }\n",
    "\n",
    "miscodes_2005 = {'Shelter, Housing & Support': 'SHELTERADMIN',\n",
    "                 'Social Development & Administration': 'SOCIALDEV',\n",
    "                 'WES - Support Services': 'SUPPORTSERV',\n",
    "                 'WES - Technical Services': 'TECH',\n",
    "                 'Customer & Business Support': 'BIZSUPPORT',\n",
    "                 'Parks & Recreation': 'PARKS',\n",
    "                 'Urban Development Services': 'PLANNING',\n",
    "                 'Legal': 'LEGAL',\n",
    "                 '3-1-1 Project': '311SERVICE',\n",
    "                 'Toronto Police Board': 'POLICEBOARD',\n",
    "                 'Corporate Accounts Community Partnership and Investment Program': 'CPIP',\n",
    "                 'Total Non-Program Expenditures': 'CORPEXPENDITURES',\n",
    "                 'Total Non-Program Revenues': 'CORPREVENUES',\n",
    "                 'Parking Authority': 'PARKING'\n",
    "                 }"
   ]
  },
  {
   "cell_type": "code",
   "execution_count": 92,
   "metadata": {
    "collapsed": true
   },
   "outputs": [],
   "source": [
    "code_dict.update(new_codes_2005)\n",
    "code_dict.update(miscodes_2005)"
   ]
  },
  {
   "cell_type": "code",
   "execution_count": 93,
   "metadata": {
    "collapsed": true
   },
   "outputs": [],
   "source": [
    "df2005 = second_clean(df2005, code_dict)"
   ]
  },
  {
   "cell_type": "markdown",
   "metadata": {},
   "source": [
    "# TODO: Find RollIntoCategory options for the following line items"
   ]
  },
  {
   "cell_type": "code",
   "execution_count": null,
   "metadata": {
    "collapsed": true
   },
   "outputs": [],
   "source": [
    "next_year_category_2005 = {'EMERGPLAN': '',\n",
    "                           'INNOVATION': '',\n",
    "                           'FINANCE': '',\n",
    "                           'CITYMANAGER': \n",
    "                           }\n",
    "\n",
    "df2005['RollIntoCode'] = df2005['DIVISIONCODE'].map(next_year_category_2005)"
   ]
  },
  {
   "cell_type": "code",
   "execution_count": 96,
   "metadata": {
    "collapsed": true
   },
   "outputs": [],
   "source": [
    "#df2005.to_csv('2005-gross_operating-v2.csv', index=None)"
   ]
  },
  {
   "cell_type": "code",
   "execution_count": 97,
   "metadata": {
    "collapsed": true
   },
   "outputs": [],
   "source": [
    "df2004 = pd.read_csv('2004-gross_operating-v1.csv', skiprows=10)"
   ]
  },
  {
   "cell_type": "code",
   "execution_count": 98,
   "metadata": {
    "collapsed": false
   },
   "outputs": [
    {
     "name": "stdout",
     "output_type": "stream",
     "text": [
      "exception occurred, amount is probably not strings: Can only use .str accessor with string values, which use np.object_ dtype in pandas\n",
      "   DIVISIONCODE                                DivisionName    Amount  \\\n",
      "47          NaN  Community Partnership & Investment Program   42105.2   \n",
      "51          NaN                         Water & Waste Water  555185.5   \n",
      "\n",
      "    RollIntoCode Note  AlternateSource  \n",
      "47           NaN  NaN              NaN  \n",
      "51           NaN  NaN              NaN  \n"
     ]
    }
   ],
   "source": [
    "df2004 = first_clean(df2004)"
   ]
  },
  {
   "cell_type": "code",
   "execution_count": 99,
   "metadata": {
    "collapsed": false
   },
   "outputs": [
    {
     "data": {
      "text/html": [
       "<div>\n",
       "<table border=\"1\" class=\"dataframe\">\n",
       "  <thead>\n",
       "    <tr style=\"text-align: right;\">\n",
       "      <th></th>\n",
       "      <th>DIVISIONCODE</th>\n",
       "      <th>DivisionName</th>\n",
       "      <th>Amount</th>\n",
       "      <th>RollIntoCode</th>\n",
       "      <th>Note</th>\n",
       "      <th>AlternateSource</th>\n",
       "    </tr>\n",
       "  </thead>\n",
       "  <tbody>\n",
       "    <tr>\n",
       "      <th>47</th>\n",
       "      <td>NaN</td>\n",
       "      <td>Community Partnership &amp; Investment Program</td>\n",
       "      <td>42105.2</td>\n",
       "      <td>NaN</td>\n",
       "      <td>NaN</td>\n",
       "      <td>NaN</td>\n",
       "    </tr>\n",
       "    <tr>\n",
       "      <th>51</th>\n",
       "      <td>NaN</td>\n",
       "      <td>Water &amp; Waste Water</td>\n",
       "      <td>555185.5</td>\n",
       "      <td>NaN</td>\n",
       "      <td>NaN</td>\n",
       "      <td>NaN</td>\n",
       "    </tr>\n",
       "  </tbody>\n",
       "</table>\n",
       "</div>"
      ],
      "text/plain": [
       "   DIVISIONCODE                                DivisionName    Amount  \\\n",
       "47          NaN  Community Partnership & Investment Program   42105.2   \n",
       "51          NaN                         Water & Waste Water  555185.5   \n",
       "\n",
       "    RollIntoCode Note  AlternateSource  \n",
       "47           NaN  NaN              NaN  \n",
       "51           NaN  NaN              NaN  "
      ]
     },
     "execution_count": 99,
     "metadata": {},
     "output_type": "execute_result"
    }
   ],
   "source": [
    "df2004[df2004.DIVISIONCODE.isnull()]"
   ]
  },
  {
   "cell_type": "code",
   "execution_count": 100,
   "metadata": {
    "collapsed": true
   },
   "outputs": [],
   "source": [
    "miscodes_2004 = {'Community Partnership & Investment Program': 'CPIP',\n",
    "                  'Water & Waste Water': 'WATER',\n",
    "                }\n",
    "\n",
    "code_dict.update(miscodes_2004)"
   ]
  },
  {
   "cell_type": "code",
   "execution_count": 101,
   "metadata": {
    "collapsed": true
   },
   "outputs": [],
   "source": [
    "df2004 = second_clean(df2004, code_dict)"
   ]
  },
  {
   "cell_type": "code",
   "execution_count": 115,
   "metadata": {
    "collapsed": false
   },
   "outputs": [],
   "source": [
    "#df2004.to_csv('2004-gross_operating-v2.csv', index=None)"
   ]
  },
  {
   "cell_type": "code",
   "execution_count": 105,
   "metadata": {
    "collapsed": true
   },
   "outputs": [],
   "source": [
    "df2003 = pd.read_csv('2003-gross_operating-v1.csv', skiprows=10)"
   ]
  },
  {
   "cell_type": "code",
   "execution_count": 106,
   "metadata": {
    "collapsed": false
   },
   "outputs": [
    {
     "name": "stdout",
     "output_type": "stream",
     "text": [
      "exception occurred, amount is probably not strings: Can only use .str accessor with string values, which use np.object_ dtype in pandas\n",
      "   DIVISIONCODE                                    DivisionName    Amount  \\\n",
      "16          NaN                                 World Youth Day       0.0   \n",
      "19          NaN                                    City Clerk's   44435.9   \n",
      "29          NaN                                 Auditor General    3003.2   \n",
      "30          NaN              Chief Administrator's Office (CAO)    5625.5   \n",
      "33          NaN                      Keele Valley Closure (KVC)   21425.0   \n",
      "43          NaN  Toronto Transit Commission (Incl. Wheel Trans)  957167.2   \n",
      "44          NaN                  Toronto Police Service & Board  659680.0   \n",
      "45          NaN                      Consolidated Grant Program   39562.7   \n",
      "\n",
      "    RollIntoCode  Note  AlternateSource  \n",
      "16           NaN   NaN              NaN  \n",
      "19           NaN   NaN              NaN  \n",
      "29           NaN   NaN              NaN  \n",
      "30           NaN   NaN              NaN  \n",
      "33           NaN   NaN              NaN  \n",
      "43           NaN   NaN              NaN  \n",
      "44           NaN   NaN              NaN  \n",
      "45           NaN   NaN              NaN  \n"
     ]
    }
   ],
   "source": [
    "df2003 = first_clean(df2003)"
   ]
  },
  {
   "cell_type": "code",
   "execution_count": 112,
   "metadata": {
    "collapsed": false
   },
   "outputs": [
    {
     "data": {
      "text/html": [
       "<div>\n",
       "<table border=\"1\" class=\"dataframe\">\n",
       "  <thead>\n",
       "    <tr style=\"text-align: right;\">\n",
       "      <th></th>\n",
       "      <th>DIVISIONCODE</th>\n",
       "      <th>DivisionName</th>\n",
       "      <th>Amount</th>\n",
       "      <th>RollIntoCode</th>\n",
       "      <th>Note</th>\n",
       "      <th>AlternateSource</th>\n",
       "    </tr>\n",
       "  </thead>\n",
       "  <tbody>\n",
       "  </tbody>\n",
       "</table>\n",
       "</div>"
      ],
      "text/plain": [
       "Empty DataFrame\n",
       "Columns: [DIVISIONCODE, DivisionName, Amount, RollIntoCode, Note, AlternateSource]\n",
       "Index: []"
      ]
     },
     "execution_count": 112,
     "metadata": {},
     "output_type": "execute_result"
    }
   ],
   "source": [
    "df2003[df2003.DIVISIONCODE.isnull()]"
   ]
  },
  {
   "cell_type": "code",
   "execution_count": 109,
   "metadata": {
    "collapsed": true
   },
   "outputs": [],
   "source": [
    "new_codes_2003 = {'World Youth Day': 'WORLDYOUTH',\n",
    "                  'Keele Valley Closure (KVC)': 'KVC',\n",
    "                  'Toronto Transit Commission (Incl. Wheel Trans)': 'TOTALTTC',\n",
    "                  'Toronto Police Service & Board': 'TOTALPOLICE',\n",
    "                  'Consolidated Grant Program': 'GRANTPROGRAM'\n",
    "                  }\n",
    "miscodes_2003 = {\"City Clerk's\": 'CLERK',\n",
    "                 'Auditor General': 'AUDITGEN',\n",
    "                 \"Chief Administrator's Office (CAO)\": 'CITYMANAGER'\n",
    "                }\n",
    "\n",
    "code_dict.update(new_codes_2003)\n",
    "code_dict.update(miscodes_2003)"
   ]
  },
  {
   "cell_type": "code",
   "execution_count": 110,
   "metadata": {
    "collapsed": true
   },
   "outputs": [],
   "source": [
    "df2003 = second_clean(df2003, code_dict)"
   ]
  },
  {
   "cell_type": "markdown",
   "metadata": {},
   "source": [
    "# TODO: Find RollIntoCategory options for the following line items"
   ]
  },
  {
   "cell_type": "code",
   "execution_count": 111,
   "metadata": {
    "collapsed": true
   },
   "outputs": [],
   "source": [
    "next_year_category_2003 = {'WORLDYOUTH': '',\n",
    "                           'KVC': '',\n",
    "                           'TOTALTTC': '',\n",
    "                           'TOTALPOLICE': '',\n",
    "                           'GRANTPROGRAM': ''\n",
    "                           }\n",
    "\n",
    "df2003['RollIntoCode'] = df2003['DIVISIONCODE'].map(next_year_category_2003)"
   ]
  },
  {
   "cell_type": "code",
   "execution_count": 113,
   "metadata": {
    "collapsed": false,
    "scrolled": true
   },
   "outputs": [
    {
     "data": {
      "text/html": [
       "<div>\n",
       "<table border=\"1\" class=\"dataframe\">\n",
       "  <thead>\n",
       "    <tr style=\"text-align: right;\">\n",
       "      <th></th>\n",
       "      <th>DIVISIONCODE</th>\n",
       "      <th>DivisionName</th>\n",
       "      <th>Amount</th>\n",
       "      <th>RollIntoCode</th>\n",
       "      <th>Note</th>\n",
       "      <th>AlternateSource</th>\n",
       "    </tr>\n",
       "  </thead>\n",
       "  <tbody>\n",
       "    <tr>\n",
       "      <th>1</th>\n",
       "      <td>AGEDHOMES</td>\n",
       "      <td>Homes for the Aged</td>\n",
       "      <td>159418.9</td>\n",
       "      <td>NaN</td>\n",
       "      <td>NaN</td>\n",
       "      <td>NaN</td>\n",
       "    </tr>\n",
       "    <tr>\n",
       "      <th>39</th>\n",
       "      <td>ARENAS</td>\n",
       "      <td>Arena Boards of Management</td>\n",
       "      <td>5021.3</td>\n",
       "      <td>NaN</td>\n",
       "      <td>NaN</td>\n",
       "      <td>NaN</td>\n",
       "    </tr>\n",
       "    <tr>\n",
       "      <th>29</th>\n",
       "      <td>AUDITGEN</td>\n",
       "      <td>Auditor General</td>\n",
       "      <td>3003.2</td>\n",
       "      <td>NaN</td>\n",
       "      <td>NaN</td>\n",
       "      <td>NaN</td>\n",
       "    </tr>\n",
       "    <tr>\n",
       "      <th>13</th>\n",
       "      <td>BIZSUPPORT</td>\n",
       "      <td>Customer &amp; Business Support</td>\n",
       "      <td>19368.9</td>\n",
       "      <td>NaN</td>\n",
       "      <td>NaN</td>\n",
       "      <td>NaN</td>\n",
       "    </tr>\n",
       "    <tr>\n",
       "      <th>0</th>\n",
       "      <td>CHILDSERV</td>\n",
       "      <td>Children's Services</td>\n",
       "      <td>299449.8</td>\n",
       "      <td>NaN</td>\n",
       "      <td>NaN</td>\n",
       "      <td>NaN</td>\n",
       "    </tr>\n",
       "    <tr>\n",
       "      <th>30</th>\n",
       "      <td>CITYMANAGER</td>\n",
       "      <td>Chief Administrator's Office (CAO)</td>\n",
       "      <td>5625.5</td>\n",
       "      <td>NaN</td>\n",
       "      <td>NaN</td>\n",
       "      <td>NaN</td>\n",
       "    </tr>\n",
       "    <tr>\n",
       "      <th>19</th>\n",
       "      <td>CLERK</td>\n",
       "      <td>City Clerk's</td>\n",
       "      <td>44435.9</td>\n",
       "      <td>NaN</td>\n",
       "      <td>NaN</td>\n",
       "      <td>NaN</td>\n",
       "    </tr>\n",
       "    <tr>\n",
       "      <th>42</th>\n",
       "      <td>COMMCENTRES</td>\n",
       "      <td>Association of Community Centers</td>\n",
       "      <td>4961.8</td>\n",
       "      <td>NaN</td>\n",
       "      <td>NaN</td>\n",
       "      <td>NaN</td>\n",
       "    </tr>\n",
       "    <tr>\n",
       "      <th>22</th>\n",
       "      <td>CORPCOMMS</td>\n",
       "      <td>Corporate Communications</td>\n",
       "      <td>6439.6</td>\n",
       "      <td>NaN</td>\n",
       "      <td>NaN</td>\n",
       "      <td>NaN</td>\n",
       "    </tr>\n",
       "    <tr>\n",
       "      <th>47</th>\n",
       "      <td>CORPEXPENDITURES</td>\n",
       "      <td>Non-Program Expenditures</td>\n",
       "      <td>236357.3</td>\n",
       "      <td>NaN</td>\n",
       "      <td>NaN</td>\n",
       "      <td>NaN</td>\n",
       "    </tr>\n",
       "    <tr>\n",
       "      <th>46</th>\n",
       "      <td>CORPFINANCING</td>\n",
       "      <td>Capital &amp; Corporate Financing</td>\n",
       "      <td>391078.9</td>\n",
       "      <td>NaN</td>\n",
       "      <td>NaN</td>\n",
       "      <td>NaN</td>\n",
       "    </tr>\n",
       "    <tr>\n",
       "      <th>31</th>\n",
       "      <td>COUNCIL</td>\n",
       "      <td>Council</td>\n",
       "      <td>17615.7</td>\n",
       "      <td>NaN</td>\n",
       "      <td>NaN</td>\n",
       "      <td>NaN</td>\n",
       "    </tr>\n",
       "    <tr>\n",
       "      <th>20</th>\n",
       "      <td>COURTSERV</td>\n",
       "      <td>Court Services</td>\n",
       "      <td>27339.7</td>\n",
       "      <td>NaN</td>\n",
       "      <td>NaN</td>\n",
       "      <td>NaN</td>\n",
       "    </tr>\n",
       "    <tr>\n",
       "      <th>12</th>\n",
       "      <td>CULTURE</td>\n",
       "      <td>Culture</td>\n",
       "      <td>12190.4</td>\n",
       "      <td>NaN</td>\n",
       "      <td>NaN</td>\n",
       "      <td>NaN</td>\n",
       "    </tr>\n",
       "    <tr>\n",
       "      <th>14</th>\n",
       "      <td>ECONDEV</td>\n",
       "      <td>Economic Development</td>\n",
       "      <td>8314.3</td>\n",
       "      <td>NaN</td>\n",
       "      <td>NaN</td>\n",
       "      <td>NaN</td>\n",
       "    </tr>\n",
       "    <tr>\n",
       "      <th>5</th>\n",
       "      <td>EMERG</td>\n",
       "      <td>Emergency Medical Services</td>\n",
       "      <td>114268.1</td>\n",
       "      <td>NaN</td>\n",
       "      <td>NaN</td>\n",
       "      <td>NaN</td>\n",
       "    </tr>\n",
       "    <tr>\n",
       "      <th>6</th>\n",
       "      <td>EMERGPLAN</td>\n",
       "      <td>Emergency Management Plan</td>\n",
       "      <td>1854.3</td>\n",
       "      <td>NaN</td>\n",
       "      <td>NaN</td>\n",
       "      <td>NaN</td>\n",
       "    </tr>\n",
       "    <tr>\n",
       "      <th>36</th>\n",
       "      <td>EXHIBPLACE</td>\n",
       "      <td>Exhibition Place</td>\n",
       "      <td>40778.3</td>\n",
       "      <td>NaN</td>\n",
       "      <td>NaN</td>\n",
       "      <td>NaN</td>\n",
       "    </tr>\n",
       "    <tr>\n",
       "      <th>23</th>\n",
       "      <td>FACILITIES</td>\n",
       "      <td>Facilities &amp; Real Estate</td>\n",
       "      <td>84241.2</td>\n",
       "      <td>NaN</td>\n",
       "      <td>NaN</td>\n",
       "      <td>NaN</td>\n",
       "    </tr>\n",
       "    <tr>\n",
       "      <th>28</th>\n",
       "      <td>FINANCE</td>\n",
       "      <td>Finance</td>\n",
       "      <td>68975.3</td>\n",
       "      <td>NaN</td>\n",
       "      <td>NaN</td>\n",
       "      <td>NaN</td>\n",
       "    </tr>\n",
       "    <tr>\n",
       "      <th>8</th>\n",
       "      <td>FIRE</td>\n",
       "      <td>Fire Services</td>\n",
       "      <td>278450.0</td>\n",
       "      <td>NaN</td>\n",
       "      <td>NaN</td>\n",
       "      <td>NaN</td>\n",
       "    </tr>\n",
       "    <tr>\n",
       "      <th>24</th>\n",
       "      <td>FLEET</td>\n",
       "      <td>Fleet Services</td>\n",
       "      <td>31297.0</td>\n",
       "      <td>NaN</td>\n",
       "      <td>NaN</td>\n",
       "      <td>NaN</td>\n",
       "    </tr>\n",
       "    <tr>\n",
       "      <th>45</th>\n",
       "      <td>GRANTPROGRAM</td>\n",
       "      <td>Consolidated Grant Program</td>\n",
       "      <td>39562.7</td>\n",
       "      <td></td>\n",
       "      <td>NaN</td>\n",
       "      <td>NaN</td>\n",
       "    </tr>\n",
       "    <tr>\n",
       "      <th>25</th>\n",
       "      <td>HUMANRESOURCES</td>\n",
       "      <td>Human Resources</td>\n",
       "      <td>26472.7</td>\n",
       "      <td>NaN</td>\n",
       "      <td>NaN</td>\n",
       "      <td>NaN</td>\n",
       "    </tr>\n",
       "    <tr>\n",
       "      <th>21</th>\n",
       "      <td>INNOVATION</td>\n",
       "      <td>Service Improvement &amp; Innovation</td>\n",
       "      <td>2654.6</td>\n",
       "      <td>NaN</td>\n",
       "      <td>NaN</td>\n",
       "      <td>NaN</td>\n",
       "    </tr>\n",
       "    <tr>\n",
       "      <th>26</th>\n",
       "      <td>IT</td>\n",
       "      <td>Information &amp; Technology</td>\n",
       "      <td>40411.5</td>\n",
       "      <td>NaN</td>\n",
       "      <td>NaN</td>\n",
       "      <td>NaN</td>\n",
       "    </tr>\n",
       "    <tr>\n",
       "      <th>33</th>\n",
       "      <td>KVC</td>\n",
       "      <td>Keele Valley Closure (KVC)</td>\n",
       "      <td>21425.0</td>\n",
       "      <td></td>\n",
       "      <td>NaN</td>\n",
       "      <td>NaN</td>\n",
       "    </tr>\n",
       "    <tr>\n",
       "      <th>27</th>\n",
       "      <td>LEGAL</td>\n",
       "      <td>Legal</td>\n",
       "      <td>24353.2</td>\n",
       "      <td>NaN</td>\n",
       "      <td>NaN</td>\n",
       "      <td>NaN</td>\n",
       "    </tr>\n",
       "    <tr>\n",
       "      <th>35</th>\n",
       "      <td>LIBRARY</td>\n",
       "      <td>Toronto Public Library</td>\n",
       "      <td>134832.7</td>\n",
       "      <td>NaN</td>\n",
       "      <td>NaN</td>\n",
       "      <td>NaN</td>\n",
       "    </tr>\n",
       "    <tr>\n",
       "      <th>32</th>\n",
       "      <td>MAYOR</td>\n",
       "      <td>Mayor's Office</td>\n",
       "      <td>1763.7</td>\n",
       "      <td>NaN</td>\n",
       "      <td>NaN</td>\n",
       "      <td>NaN</td>\n",
       "    </tr>\n",
       "    <tr>\n",
       "      <th>48</th>\n",
       "      <td>PARKING</td>\n",
       "      <td>Parking Authority</td>\n",
       "      <td>91055.5</td>\n",
       "      <td>NaN</td>\n",
       "      <td>NaN</td>\n",
       "      <td>NaN</td>\n",
       "    </tr>\n",
       "    <tr>\n",
       "      <th>15</th>\n",
       "      <td>PARKS</td>\n",
       "      <td>Parks &amp; Recreation</td>\n",
       "      <td>219745.6</td>\n",
       "      <td>NaN</td>\n",
       "      <td>NaN</td>\n",
       "      <td>NaN</td>\n",
       "    </tr>\n",
       "    <tr>\n",
       "      <th>18</th>\n",
       "      <td>PLANNING</td>\n",
       "      <td>Urban Development Services</td>\n",
       "      <td>92332.2</td>\n",
       "      <td>NaN</td>\n",
       "      <td>NaN</td>\n",
       "      <td>NaN</td>\n",
       "    </tr>\n",
       "    <tr>\n",
       "      <th>34</th>\n",
       "      <td>PUBLICHEALTH</td>\n",
       "      <td>Toronto Public Health</td>\n",
       "      <td>170100.8</td>\n",
       "      <td>NaN</td>\n",
       "      <td>NaN</td>\n",
       "      <td>NaN</td>\n",
       "    </tr>\n",
       "    <tr>\n",
       "      <th>41</th>\n",
       "      <td>REGIONCONSERV</td>\n",
       "      <td>Toronto &amp; Region Conservation Authority</td>\n",
       "      <td>23912.5</td>\n",
       "      <td>NaN</td>\n",
       "      <td>NaN</td>\n",
       "      <td>NaN</td>\n",
       "    </tr>\n",
       "    <tr>\n",
       "      <th>2</th>\n",
       "      <td>SHELTERADMIN</td>\n",
       "      <td>Shelter, Housing &amp; Support</td>\n",
       "      <td>638854.6</td>\n",
       "      <td>NaN</td>\n",
       "      <td>NaN</td>\n",
       "      <td>NaN</td>\n",
       "    </tr>\n",
       "    <tr>\n",
       "      <th>3</th>\n",
       "      <td>SOCIALDEV</td>\n",
       "      <td>Social Development &amp; Administration</td>\n",
       "      <td>17486.1</td>\n",
       "      <td>NaN</td>\n",
       "      <td>NaN</td>\n",
       "      <td>NaN</td>\n",
       "    </tr>\n",
       "    <tr>\n",
       "      <th>4</th>\n",
       "      <td>SOCIALSERV</td>\n",
       "      <td>Social Services</td>\n",
       "      <td>934105.0</td>\n",
       "      <td>NaN</td>\n",
       "      <td>NaN</td>\n",
       "      <td>NaN</td>\n",
       "    </tr>\n",
       "    <tr>\n",
       "      <th>7</th>\n",
       "      <td>SOLIDWASTE</td>\n",
       "      <td>Solid Waste Management Services</td>\n",
       "      <td>182689.0</td>\n",
       "      <td>NaN</td>\n",
       "      <td>NaN</td>\n",
       "      <td>NaN</td>\n",
       "    </tr>\n",
       "    <tr>\n",
       "      <th>10</th>\n",
       "      <td>SUPPORTSERV</td>\n",
       "      <td>WES - Support Services</td>\n",
       "      <td>33813.9</td>\n",
       "      <td>NaN</td>\n",
       "      <td>NaN</td>\n",
       "      <td>NaN</td>\n",
       "    </tr>\n",
       "    <tr>\n",
       "      <th>11</th>\n",
       "      <td>TECH</td>\n",
       "      <td>WES - Technical Services</td>\n",
       "      <td>48132.1</td>\n",
       "      <td>NaN</td>\n",
       "      <td>NaN</td>\n",
       "      <td>NaN</td>\n",
       "    </tr>\n",
       "    <tr>\n",
       "      <th>37</th>\n",
       "      <td>THEATRES</td>\n",
       "      <td>Theatres</td>\n",
       "      <td>20502.3</td>\n",
       "      <td>NaN</td>\n",
       "      <td>NaN</td>\n",
       "      <td>NaN</td>\n",
       "    </tr>\n",
       "    <tr>\n",
       "      <th>44</th>\n",
       "      <td>TOTALPOLICE</td>\n",
       "      <td>Toronto Police Service &amp; Board</td>\n",
       "      <td>659680.0</td>\n",
       "      <td></td>\n",
       "      <td>NaN</td>\n",
       "      <td>NaN</td>\n",
       "    </tr>\n",
       "    <tr>\n",
       "      <th>43</th>\n",
       "      <td>TOTALTTC</td>\n",
       "      <td>Toronto Transit Commission (Incl. Wheel Trans)</td>\n",
       "      <td>957167.2</td>\n",
       "      <td></td>\n",
       "      <td>NaN</td>\n",
       "      <td>NaN</td>\n",
       "    </tr>\n",
       "    <tr>\n",
       "      <th>17</th>\n",
       "      <td>TOURISM</td>\n",
       "      <td>Tourism</td>\n",
       "      <td>12068.1</td>\n",
       "      <td>NaN</td>\n",
       "      <td>NaN</td>\n",
       "      <td>NaN</td>\n",
       "    </tr>\n",
       "    <tr>\n",
       "      <th>9</th>\n",
       "      <td>TRANSPORTATION</td>\n",
       "      <td>Transportation Services</td>\n",
       "      <td>242915.8</td>\n",
       "      <td>NaN</td>\n",
       "      <td>NaN</td>\n",
       "      <td>NaN</td>\n",
       "    </tr>\n",
       "    <tr>\n",
       "      <th>49</th>\n",
       "      <td>WATER</td>\n",
       "      <td>Water &amp; Waste Water</td>\n",
       "      <td>520142.9</td>\n",
       "      <td>NaN</td>\n",
       "      <td>NaN</td>\n",
       "      <td>NaN</td>\n",
       "    </tr>\n",
       "    <tr>\n",
       "      <th>16</th>\n",
       "      <td>WORLDYOUTH</td>\n",
       "      <td>World Youth Day</td>\n",
       "      <td>0.0</td>\n",
       "      <td></td>\n",
       "      <td>NaN</td>\n",
       "      <td>NaN</td>\n",
       "    </tr>\n",
       "    <tr>\n",
       "      <th>40</th>\n",
       "      <td>YONGEDUNDAS</td>\n",
       "      <td>Yonge/Dundas Square</td>\n",
       "      <td>1030.5</td>\n",
       "      <td>NaN</td>\n",
       "      <td>NaN</td>\n",
       "      <td>NaN</td>\n",
       "    </tr>\n",
       "    <tr>\n",
       "      <th>38</th>\n",
       "      <td>ZOO</td>\n",
       "      <td>Toronto Zoo</td>\n",
       "      <td>32857.1</td>\n",
       "      <td>NaN</td>\n",
       "      <td>NaN</td>\n",
       "      <td>NaN</td>\n",
       "    </tr>\n",
       "  </tbody>\n",
       "</table>\n",
       "</div>"
      ],
      "text/plain": [
       "        DIVISIONCODE                                    DivisionName  \\\n",
       "1          AGEDHOMES                              Homes for the Aged   \n",
       "39            ARENAS                      Arena Boards of Management   \n",
       "29          AUDITGEN                                 Auditor General   \n",
       "13        BIZSUPPORT                     Customer & Business Support   \n",
       "0          CHILDSERV                             Children's Services   \n",
       "30       CITYMANAGER              Chief Administrator's Office (CAO)   \n",
       "19             CLERK                                    City Clerk's   \n",
       "42       COMMCENTRES                Association of Community Centers   \n",
       "22         CORPCOMMS                        Corporate Communications   \n",
       "47  CORPEXPENDITURES                        Non-Program Expenditures   \n",
       "46     CORPFINANCING                   Capital & Corporate Financing   \n",
       "31           COUNCIL                                         Council   \n",
       "20         COURTSERV                                  Court Services   \n",
       "12           CULTURE                                         Culture   \n",
       "14           ECONDEV                            Economic Development   \n",
       "5              EMERG                      Emergency Medical Services   \n",
       "6          EMERGPLAN                       Emergency Management Plan   \n",
       "36        EXHIBPLACE                                Exhibition Place   \n",
       "23        FACILITIES                        Facilities & Real Estate   \n",
       "28           FINANCE                                         Finance   \n",
       "8               FIRE                                   Fire Services   \n",
       "24             FLEET                                  Fleet Services   \n",
       "45      GRANTPROGRAM                      Consolidated Grant Program   \n",
       "25    HUMANRESOURCES                                 Human Resources   \n",
       "21        INNOVATION                Service Improvement & Innovation   \n",
       "26                IT                        Information & Technology   \n",
       "33               KVC                      Keele Valley Closure (KVC)   \n",
       "27             LEGAL                                           Legal   \n",
       "35           LIBRARY                          Toronto Public Library   \n",
       "32             MAYOR                                  Mayor's Office   \n",
       "48           PARKING                               Parking Authority   \n",
       "15             PARKS                              Parks & Recreation   \n",
       "18          PLANNING                      Urban Development Services   \n",
       "34      PUBLICHEALTH                           Toronto Public Health   \n",
       "41     REGIONCONSERV         Toronto & Region Conservation Authority   \n",
       "2       SHELTERADMIN                      Shelter, Housing & Support   \n",
       "3          SOCIALDEV             Social Development & Administration   \n",
       "4         SOCIALSERV                                 Social Services   \n",
       "7         SOLIDWASTE                 Solid Waste Management Services   \n",
       "10       SUPPORTSERV                          WES - Support Services   \n",
       "11              TECH                        WES - Technical Services   \n",
       "37          THEATRES                                        Theatres   \n",
       "44       TOTALPOLICE                  Toronto Police Service & Board   \n",
       "43          TOTALTTC  Toronto Transit Commission (Incl. Wheel Trans)   \n",
       "17           TOURISM                                         Tourism   \n",
       "9     TRANSPORTATION                         Transportation Services   \n",
       "49             WATER                             Water & Waste Water   \n",
       "16        WORLDYOUTH                                 World Youth Day   \n",
       "40       YONGEDUNDAS                             Yonge/Dundas Square   \n",
       "38               ZOO                                     Toronto Zoo   \n",
       "\n",
       "      Amount RollIntoCode  Note  AlternateSource  \n",
       "1   159418.9          NaN   NaN              NaN  \n",
       "39    5021.3          NaN   NaN              NaN  \n",
       "29    3003.2          NaN   NaN              NaN  \n",
       "13   19368.9          NaN   NaN              NaN  \n",
       "0   299449.8          NaN   NaN              NaN  \n",
       "30    5625.5          NaN   NaN              NaN  \n",
       "19   44435.9          NaN   NaN              NaN  \n",
       "42    4961.8          NaN   NaN              NaN  \n",
       "22    6439.6          NaN   NaN              NaN  \n",
       "47  236357.3          NaN   NaN              NaN  \n",
       "46  391078.9          NaN   NaN              NaN  \n",
       "31   17615.7          NaN   NaN              NaN  \n",
       "20   27339.7          NaN   NaN              NaN  \n",
       "12   12190.4          NaN   NaN              NaN  \n",
       "14    8314.3          NaN   NaN              NaN  \n",
       "5   114268.1          NaN   NaN              NaN  \n",
       "6     1854.3          NaN   NaN              NaN  \n",
       "36   40778.3          NaN   NaN              NaN  \n",
       "23   84241.2          NaN   NaN              NaN  \n",
       "28   68975.3          NaN   NaN              NaN  \n",
       "8   278450.0          NaN   NaN              NaN  \n",
       "24   31297.0          NaN   NaN              NaN  \n",
       "45   39562.7                NaN              NaN  \n",
       "25   26472.7          NaN   NaN              NaN  \n",
       "21    2654.6          NaN   NaN              NaN  \n",
       "26   40411.5          NaN   NaN              NaN  \n",
       "33   21425.0                NaN              NaN  \n",
       "27   24353.2          NaN   NaN              NaN  \n",
       "35  134832.7          NaN   NaN              NaN  \n",
       "32    1763.7          NaN   NaN              NaN  \n",
       "48   91055.5          NaN   NaN              NaN  \n",
       "15  219745.6          NaN   NaN              NaN  \n",
       "18   92332.2          NaN   NaN              NaN  \n",
       "34  170100.8          NaN   NaN              NaN  \n",
       "41   23912.5          NaN   NaN              NaN  \n",
       "2   638854.6          NaN   NaN              NaN  \n",
       "3    17486.1          NaN   NaN              NaN  \n",
       "4   934105.0          NaN   NaN              NaN  \n",
       "7   182689.0          NaN   NaN              NaN  \n",
       "10   33813.9          NaN   NaN              NaN  \n",
       "11   48132.1          NaN   NaN              NaN  \n",
       "37   20502.3          NaN   NaN              NaN  \n",
       "44  659680.0                NaN              NaN  \n",
       "43  957167.2                NaN              NaN  \n",
       "17   12068.1          NaN   NaN              NaN  \n",
       "9   242915.8          NaN   NaN              NaN  \n",
       "49  520142.9          NaN   NaN              NaN  \n",
       "16       0.0                NaN              NaN  \n",
       "40    1030.5          NaN   NaN              NaN  \n",
       "38   32857.1          NaN   NaN              NaN  "
      ]
     },
     "execution_count": 113,
     "metadata": {},
     "output_type": "execute_result"
    }
   ],
   "source": [
    "df2003"
   ]
  },
  {
   "cell_type": "code",
   "execution_count": 114,
   "metadata": {
    "collapsed": true
   },
   "outputs": [],
   "source": [
    "#df2003.to_csv('2003-gross_operating-v2.csv', index=None)"
   ]
  },
  {
   "cell_type": "code",
   "execution_count": null,
   "metadata": {
    "collapsed": true
   },
   "outputs": [],
   "source": []
  }
 ],
 "metadata": {
  "kernelspec": {
   "display_name": "Python 3",
   "language": "python",
   "name": "python3"
  },
  "language_info": {
   "codemirror_mode": {
    "name": "ipython",
    "version": 3
   },
   "file_extension": ".py",
   "mimetype": "text/x-python",
   "name": "python",
   "nbconvert_exporter": "python",
   "pygments_lexer": "ipython3",
   "version": "3.5.1"
  }
 },
 "nbformat": 4,
 "nbformat_minor": 0
}
